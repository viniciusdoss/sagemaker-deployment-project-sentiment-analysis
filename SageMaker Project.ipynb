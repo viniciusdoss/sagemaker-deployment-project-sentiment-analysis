{
 "cells": [
  {
   "cell_type": "markdown",
   "metadata": {},
   "source": [
    "# Creating a Sentiment Analysis Web App\n",
    "## Using PyTorch and SageMaker\n",
    "\n",
    "_Deep Learning Nanodegree Program | Deployment_\n",
    "\n",
    "---\n",
    "\n",
    "Now that we have a basic understanding of how SageMaker works we will try to use it to construct a complete project from end to end. Our goal will be to have a simple web page which a user can use to enter a movie review. The web page will then send the review off to our deployed model which will predict the sentiment of the entered review.\n",
    "\n",
    "## Instructions\n",
    "\n",
    "Some template code has already been provided for you, and you will need to implement additional functionality to successfully complete this notebook. You will not need to modify the included code beyond what is requested. Sections that begin with '**TODO**' in the header indicate that you need to complete or implement some portion within them. Instructions will be provided for each section and the specifics of the implementation are marked in the code block with a `# TODO: ...` comment. Please be sure to read the instructions carefully!\n",
    "\n",
    "In addition to implementing code, there will be questions for you to answer which relate to the task and your implementation. Each section where you will answer a question is preceded by a '**Question:**' header. Carefully read each question and provide your answer below the '**Answer:**' header by editing the Markdown cell.\n",
    "\n",
    "> **Note**: Code and Markdown cells can be executed using the **Shift+Enter** keyboard shortcut. In addition, a cell can be edited by typically clicking it (double-click for Markdown cells) or by pressing **Enter** while it is highlighted.\n",
    "\n",
    "## General Outline\n",
    "\n",
    "Recall the general outline for SageMaker projects using a notebook instance.\n",
    "\n",
    "1. Download or otherwise retrieve the data.\n",
    "2. Process / Prepare the data.\n",
    "3. Upload the processed data to S3.\n",
    "4. Train a chosen model.\n",
    "5. Test the trained model (typically using a batch transform job).\n",
    "6. Deploy the trained model.\n",
    "7. Use the deployed model.\n",
    "\n",
    "For this project, you will be following the steps in the general outline with some modifications. \n",
    "\n",
    "First, you will not be testing the model in its own step. You will still be testing the model, however, you will do it by deploying your model and then using the deployed model by sending the test data to it. One of the reasons for doing this is so that you can make sure that your deployed model is working correctly before moving forward.\n",
    "\n",
    "In addition, you will deploy and use your trained model a second time. In the second iteration you will customize the way that your trained model is deployed by including some of your own code. In addition, your newly deployed model will be used in the sentiment analysis web app."
   ]
  },
  {
   "cell_type": "markdown",
   "metadata": {},
   "source": [
    "## Step 1: Downloading the data\n",
    "\n",
    "As in the XGBoost in SageMaker notebook, we will be using the [IMDb dataset](http://ai.stanford.edu/~amaas/data/sentiment/)\n",
    "\n",
    "> Maas, Andrew L., et al. [Learning Word Vectors for Sentiment Analysis](http://ai.stanford.edu/~amaas/data/sentiment/). In _Proceedings of the 49th Annual Meeting of the Association for Computational Linguistics: Human Language Technologies_. Association for Computational Linguistics, 2011."
   ]
  },
  {
   "cell_type": "code",
   "execution_count": 1,
   "metadata": {},
   "outputs": [
    {
     "name": "stdout",
     "output_type": "stream",
     "text": [
      "mkdir: cannot create directory ‘../data’: File exists\n",
      "--2020-03-27 04:40:28--  http://ai.stanford.edu/~amaas/data/sentiment/aclImdb_v1.tar.gz\n",
      "Resolving ai.stanford.edu (ai.stanford.edu)... 171.64.68.10\n",
      "Connecting to ai.stanford.edu (ai.stanford.edu)|171.64.68.10|:80... connected.\n",
      "HTTP request sent, awaiting response... 200 OK\n",
      "Length: 84125825 (80M) [application/x-gzip]\n",
      "Saving to: ‘../data/aclImdb_v1.tar.gz’\n",
      "\n",
      "../data/aclImdb_v1. 100%[===================>]  80.23M  22.0MB/s    in 4.7s    \n",
      "\n",
      "2020-03-27 04:40:33 (17.2 MB/s) - ‘../data/aclImdb_v1.tar.gz’ saved [84125825/84125825]\n",
      "\n"
     ]
    }
   ],
   "source": [
    "%mkdir ../data\n",
    "!wget -O ../data/aclImdb_v1.tar.gz http://ai.stanford.edu/~amaas/data/sentiment/aclImdb_v1.tar.gz\n",
    "!tar -zxf ../data/aclImdb_v1.tar.gz -C ../data"
   ]
  },
  {
   "cell_type": "markdown",
   "metadata": {},
   "source": [
    "## Step 2: Preparing and Processing the data\n",
    "\n",
    "Also, as in the XGBoost notebook, we will be doing some initial data processing. The first few steps are the same as in the XGBoost example. To begin with, we will read in each of the reviews and combine them into a single input structure. Then, we will split the dataset into a training set and a testing set."
   ]
  },
  {
   "cell_type": "code",
   "execution_count": 2,
   "metadata": {},
   "outputs": [],
   "source": [
    "import os\n",
    "import glob\n",
    "\n",
    "def read_imdb_data(data_dir='../data/aclImdb'):\n",
    "    data = {}\n",
    "    labels = {}\n",
    "    \n",
    "    for data_type in ['train', 'test']:\n",
    "        data[data_type] = {}\n",
    "        labels[data_type] = {}\n",
    "        \n",
    "        for sentiment in ['pos', 'neg']:\n",
    "            data[data_type][sentiment] = []\n",
    "            labels[data_type][sentiment] = []\n",
    "            \n",
    "            path = os.path.join(data_dir, data_type, sentiment, '*.txt')\n",
    "            files = glob.glob(path)\n",
    "            \n",
    "            for f in files:\n",
    "                with open(f) as review:\n",
    "                    data[data_type][sentiment].append(review.read())\n",
    "                    # Here we represent a positive review by '1' and a negative review by '0'\n",
    "                    labels[data_type][sentiment].append(1 if sentiment == 'pos' else 0)\n",
    "                    \n",
    "            assert len(data[data_type][sentiment]) == len(labels[data_type][sentiment]), \\\n",
    "                    \"{}/{} data size does not match labels size\".format(data_type, sentiment)\n",
    "                \n",
    "    return data, labels"
   ]
  },
  {
   "cell_type": "code",
   "execution_count": 3,
   "metadata": {},
   "outputs": [
    {
     "name": "stdout",
     "output_type": "stream",
     "text": [
      "IMDB reviews: train = 12500 pos / 12500 neg, test = 12500 pos / 12500 neg\n"
     ]
    }
   ],
   "source": [
    "data, labels = read_imdb_data()\n",
    "print(\"IMDB reviews: train = {} pos / {} neg, test = {} pos / {} neg\".format(\n",
    "            len(data['train']['pos']), len(data['train']['neg']),\n",
    "            len(data['test']['pos']), len(data['test']['neg'])))"
   ]
  },
  {
   "cell_type": "markdown",
   "metadata": {},
   "source": [
    "Now that we've read the raw training and testing data from the downloaded dataset, we will combine the positive and negative reviews and shuffle the resulting records."
   ]
  },
  {
   "cell_type": "code",
   "execution_count": 4,
   "metadata": {},
   "outputs": [],
   "source": [
    "from sklearn.utils import shuffle\n",
    "\n",
    "def prepare_imdb_data(data, labels):\n",
    "    \"\"\"Prepare training and test sets from IMDb movie reviews.\"\"\"\n",
    "    \n",
    "    #Combine positive and negative reviews and labels\n",
    "    data_train = data['train']['pos'] + data['train']['neg']\n",
    "    data_test = data['test']['pos'] + data['test']['neg']\n",
    "    labels_train = labels['train']['pos'] + labels['train']['neg']\n",
    "    labels_test = labels['test']['pos'] + labels['test']['neg']\n",
    "    \n",
    "    #Shuffle reviews and corresponding labels within training and test sets\n",
    "    data_train, labels_train = shuffle(data_train, labels_train)\n",
    "    data_test, labels_test = shuffle(data_test, labels_test)\n",
    "    \n",
    "    # Return a unified training data, test data, training labels, test labets\n",
    "    return data_train, data_test, labels_train, labels_test"
   ]
  },
  {
   "cell_type": "code",
   "execution_count": 5,
   "metadata": {},
   "outputs": [
    {
     "name": "stdout",
     "output_type": "stream",
     "text": [
      "IMDb reviews (combined): train = 25000, test = 25000\n"
     ]
    }
   ],
   "source": [
    "train_X, test_X, train_y, test_y = prepare_imdb_data(data, labels)\n",
    "print(\"IMDb reviews (combined): train = {}, test = {}\".format(len(train_X), len(test_X)))"
   ]
  },
  {
   "cell_type": "markdown",
   "metadata": {},
   "source": [
    "Now that we have our training and testing sets unified and prepared, we should do a quick check and see an example of the data our model will be trained on. This is generally a good idea as it allows you to see how each of the further processing steps affects the reviews and it also ensures that the data has been loaded correctly."
   ]
  },
  {
   "cell_type": "code",
   "execution_count": 6,
   "metadata": {},
   "outputs": [
    {
     "name": "stdout",
     "output_type": "stream",
     "text": [
      "You can't really go far when the initial story isn't all that great. The premise of cyborg's needing blood is just dopey.<br /><br />The script is blasé'. The actors don't have much to work with. The sets were staged out in the desert to cut costs. It's a trademark that if the background is the desert, then the movie has no budget.<br /><br />Lack of budget is okay, if there's a story. \"Solarbabies\" and \"Blood of Champions\" are examples of decent work from no $. but this movie looks as if they had to scrape their change together just to buy the cameraman a sandwich. Again, forgivable if only the story didn't just plain suck.<br /><br />Finally, this movie commits the biggest crime of all: It doesn't finish! It simply ends as if it's a commercial break away from the rest of the movie. But the rest never comes. Just odd.<br /><br />Just bad.\n",
      "0\n"
     ]
    }
   ],
   "source": [
    "print(train_X[100])\n",
    "print(train_y[100])\n",
    "\n",
    "# free up memory\n",
    "data = labels = None"
   ]
  },
  {
   "cell_type": "markdown",
   "metadata": {},
   "source": [
    "The first step in processing the reviews is to make sure that any html tags that appear should be removed. In addition we wish to tokenize our input, that way words such as *entertained* and *entertaining* are considered the same with regard to sentiment analysis."
   ]
  },
  {
   "cell_type": "code",
   "execution_count": 7,
   "metadata": {},
   "outputs": [],
   "source": [
    "import nltk\n",
    "from nltk.corpus import stopwords\n",
    "from nltk.stem.porter import *\n",
    "\n",
    "import re\n",
    "from bs4 import BeautifulSoup\n",
    "\n",
    "def review_to_words(review):\n",
    "    nltk.download(\"stopwords\", quiet=True)\n",
    "    stemmer = PorterStemmer()\n",
    "    \n",
    "    text = BeautifulSoup(review, \"html.parser\").get_text() # Remove HTML tags\n",
    "    text = re.sub(r\"[^a-zA-Z0-9]\", \" \", text.lower()) # Convert to lower case\n",
    "    words = text.split() # Split string into words\n",
    "    words = [w for w in words if w not in stopwords.words(\"english\")] # Remove stopwords\n",
    "    words = [PorterStemmer().stem(w) for w in words] # stem\n",
    "    \n",
    "    return words"
   ]
  },
  {
   "cell_type": "markdown",
   "metadata": {},
   "source": [
    "The `review_to_words` method defined above uses `BeautifulSoup` to remove any html tags that appear and uses the `nltk` package to tokenize the reviews. As a check to ensure we know how everything is working, try applying `review_to_words` to one of the reviews in the training set."
   ]
  },
  {
   "cell_type": "code",
   "execution_count": 8,
   "metadata": {},
   "outputs": [
    {
     "name": "stdout",
     "output_type": "stream",
     "text": [
      "* Original text: You can't really go far when the initial story isn't all that great. The premise of cyborg's needing blood is just dopey.<br /><br />The script is blasé'. The actors don't have much to work with. The sets were staged out in the desert to cut costs. It's a trademark that if the background is the desert, then the movie has no budget.<br /><br />Lack of budget is okay, if there's a story. \"Solarbabies\" and \"Blood of Champions\" are examples of decent work from no $. but this movie looks as if they had to scrape their change together just to buy the cameraman a sandwich. Again, forgivable if only the story didn't just plain suck.<br /><br />Finally, this movie commits the biggest crime of all: It doesn't finish! It simply ends as if it's a commercial break away from the rest of the movie. But the rest never comes. Just odd.<br /><br />Just bad. \n",
      "\n",
      "\n",
      "* Preprocessed text: ['realli', 'go', 'far', 'initi', 'stori', 'great', 'premis', 'cyborg', 'need', 'blood', 'dopey', 'script', 'bla', 'actor', 'much', 'work', 'set', 'stage', 'desert', 'cut', 'cost', 'trademark', 'background', 'desert', 'movi', 'budget', 'lack', 'budget', 'okay', 'stori', 'solarbabi', 'blood', 'champion', 'exampl', 'decent', 'work', 'movi', 'look', 'scrape', 'chang', 'togeth', 'buy', 'cameraman', 'sandwich', 'forgiv', 'stori', 'plain', 'suck', 'final', 'movi', 'commit', 'biggest', 'crime', 'finish', 'simpli', 'end', 'commerci', 'break', 'away', 'rest', 'movi', 'rest', 'never', 'come', 'odd', 'bad']\n"
     ]
    }
   ],
   "source": [
    "# TODO: Apply review_to_words to a review (train_X[100] or any other review)\n",
    "\n",
    "# Original text:\n",
    "print('* Original text:', train_X[100], '\\n\\n')\n",
    "# Preprocessed text:\n",
    "print('* Preprocessed text:', review_to_words(train_X[100]))"
   ]
  },
  {
   "cell_type": "markdown",
   "metadata": {},
   "source": [
    "**Question:** Above we mentioned that `review_to_words` method removes html formatting and allows us to tokenize the words found in a review, for example, converting *entertained* and *entertaining* into *entertain* so that they are treated as though they are the same word. What else, if anything, does this method do to the input?"
   ]
  },
  {
   "cell_type": "markdown",
   "metadata": {},
   "source": [
    "**Answer:** the review_to_words function first remove HTML tags from the text, then convert the text into lower case and remove non-alphabetic characters, remove english stopwords like pronouns and apply stem to all words contained in the text."
   ]
  },
  {
   "cell_type": "markdown",
   "metadata": {},
   "source": [
    "The method below applies the `review_to_words` method to each of the reviews in the training and testing datasets. In addition it caches the results. This is because performing this processing step can take a long time. This way if you are unable to complete the notebook in the current session, you can come back without needing to process the data a second time."
   ]
  },
  {
   "cell_type": "code",
   "execution_count": 9,
   "metadata": {},
   "outputs": [],
   "source": [
    "import pickle\n",
    "\n",
    "cache_dir = os.path.join(\"../cache\", \"sentiment_analysis\")  # where to store cache files\n",
    "os.makedirs(cache_dir, exist_ok=True)  # ensure cache directory exists\n",
    "\n",
    "def preprocess_data(data_train, data_test, labels_train, labels_test,\n",
    "                    cache_dir=cache_dir, cache_file=\"preprocessed_data.pkl\"):\n",
    "    \"\"\"Convert each review to words; read from cache if available.\"\"\"\n",
    "\n",
    "    # If cache_file is not None, try to read from it first\n",
    "    cache_data = None\n",
    "    if cache_file is not None:\n",
    "        try:\n",
    "            with open(os.path.join(cache_dir, cache_file), \"rb\") as f:\n",
    "                cache_data = pickle.load(f)\n",
    "            print(\"Read preprocessed data from cache file:\", cache_file)\n",
    "        except:\n",
    "            pass  # unable to read from cache, but that's okay\n",
    "    \n",
    "    # If cache is missing, then do the heavy lifting\n",
    "    if cache_data is None:\n",
    "        # Preprocess training and test data to obtain words for each review\n",
    "        #words_train = list(map(review_to_words, data_train))\n",
    "        #words_test = list(map(review_to_words, data_test))\n",
    "        words_train = [review_to_words(review) for review in data_train]\n",
    "        words_test = [review_to_words(review) for review in data_test]\n",
    "        \n",
    "        # Write to cache file for future runs\n",
    "        if cache_file is not None:\n",
    "            cache_data = dict(words_train=words_train, words_test=words_test,\n",
    "                              labels_train=labels_train, labels_test=labels_test)\n",
    "            with open(os.path.join(cache_dir, cache_file), \"wb\") as f:\n",
    "                pickle.dump(cache_data, f)\n",
    "            print(\"Wrote preprocessed data to cache file:\", cache_file)\n",
    "    else:\n",
    "        # Unpack data loaded from cache file\n",
    "        words_train, words_test, labels_train, labels_test = (cache_data['words_train'],\n",
    "                cache_data['words_test'], cache_data['labels_train'], cache_data['labels_test'])\n",
    "    \n",
    "    return words_train, words_test, labels_train, labels_test"
   ]
  },
  {
   "cell_type": "code",
   "execution_count": 10,
   "metadata": {},
   "outputs": [
    {
     "name": "stdout",
     "output_type": "stream",
     "text": [
      "Read preprocessed data from cache file: preprocessed_data.pkl\n"
     ]
    }
   ],
   "source": [
    "# Preprocess data\n",
    "train_X, test_X, train_y, test_y = preprocess_data(train_X, test_X, train_y, test_y)"
   ]
  },
  {
   "cell_type": "markdown",
   "metadata": {},
   "source": [
    "## Transform the data\n",
    "\n",
    "In the XGBoost notebook we transformed the data from its word representation to a bag-of-words feature representation. For the model we are going to construct in this notebook we will construct a feature representation which is very similar. To start, we will represent each word as an integer. Of course, some of the words that appear in the reviews occur very infrequently and so likely don't contain much information for the purposes of sentiment analysis. The way we will deal with this problem is that we will fix the size of our working vocabulary and we will only include the words that appear most frequently. We will then combine all of the infrequent words into a single category and, in our case, we will label it as `1`.\n",
    "\n",
    "Since we will be using a recurrent neural network, it will be convenient if the length of each review is the same. To do this, we will fix a size for our reviews and then pad short reviews with the category 'no word' (which we will label `0`) and truncate long reviews."
   ]
  },
  {
   "cell_type": "markdown",
   "metadata": {},
   "source": [
    "### (TODO) Create a word dictionary\n",
    "\n",
    "To begin with, we need to construct a way to map words that appear in the reviews to integers. Here we fix the size of our vocabulary (including the 'no word' and 'infrequent' categories) to be `5000` but you may wish to change this to see how it affects the model.\n",
    "\n",
    "> **TODO:** Complete the implementation for the `build_dict()` method below. Note that even though the vocab_size is set to `5000`, we only want to construct a mapping for the most frequently appearing `4998` words. This is because we want to reserve the special labels `0` for 'no word' and `1` for 'infrequent word'."
   ]
  },
  {
   "cell_type": "code",
   "execution_count": 11,
   "metadata": {},
   "outputs": [],
   "source": [
    "from collections import Counter, OrderedDict\n",
    "import numpy as np\n",
    "\n",
    "def build_dict(data, vocab_size = 5000):\n",
    "    \"\"\"Construct and return a dictionary mapping each of the most frequently appearing words to a unique integer.\"\"\"\n",
    "    \n",
    "    # TODO: Determine how often each word appears in `data`. Note that `data` is a list of sentences and that a\n",
    "    #       sentence is a list of words.\n",
    "    \n",
    "    word_counter = Counter() # create a counter\n",
    "    \n",
    "    for sentence in data:  # scroll through the list os sentences\n",
    "        word_counter.update(sentence)  # count the frequency of each word in each sentence\n",
    "        \n",
    "    word_count = dict(word_counter.most_common()) # A dict which stores the words that appear in the reviews with their rescpective frequencies of occurrence\n",
    "    \n",
    "    # TODO: Sort the words found in `data` so that sorted_words[0] is the most frequently appearing word and\n",
    "    #       sorted_words[-1] is the least frequently appearing word.\n",
    "    sorted_words = list(word_count.keys())  # word_count ordered from the most frequent word to the least frequent one\n",
    "    \n",
    "    word_dict = {} # This is what we are building, a dictionary that translates words into integers\n",
    "    for idx, word in enumerate(sorted_words[:vocab_size - 2]): # The -2 is so that we save room for the 'no word'\n",
    "        word_dict[word] = idx + 2                              # 'infrequent' labels\n",
    "        \n",
    "    return word_dict"
   ]
  },
  {
   "cell_type": "code",
   "execution_count": 12,
   "metadata": {},
   "outputs": [],
   "source": [
    "word_dict = build_dict(train_X)"
   ]
  },
  {
   "cell_type": "code",
   "execution_count": 13,
   "metadata": {},
   "outputs": [
    {
     "name": "stdout",
     "output_type": "stream",
     "text": [
      "dict_keys(['movi', 'film', 'one', 'like', 'time', 'good', 'make', 'charact', 'get', 'see', 'watch', 'stori', 'even', 'would', 'realli', 'well', 'scene', 'look', 'show', 'much', 'end', 'peopl', 'bad', 'go', 'great', 'also', 'first', 'love', 'think', 'way', 'act', 'play', 'made', 'thing', 'could', 'know', 'say', 'seem', 'work', 'plot', 'two', 'actor', 'year', 'come', 'mani', 'seen', 'take', 'want', 'life', 'never', 'littl', 'best', 'tri', 'man', 'ever', 'give', 'better', 'still', 'perform', 'find', 'feel', 'part', 'back', 'use', 'someth', 'director', 'actual', 'interest', 'lot', 'real', 'old', 'cast', 'though', 'live', 'star', 'enjoy', 'guy', 'anoth', 'new', 'role', 'noth', '10', 'funni', 'music', 'point', 'start', 'set', 'girl', 'origin', 'day', 'world', 'everi', 'believ', 'turn', 'quit', 'direct', 'us', 'thought', 'fact', 'minut', 'horror', 'kill', 'action', 'comedi', 'pretti', 'young', 'wonder', 'happen', 'around', 'got', 'effect', 'right', 'long', 'howev', 'big', 'line', 'famili', 'enough', 'seri', 'may', 'need', 'fan', 'bit', 'script', 'beauti', 'person', 'becom', 'without', 'must', 'alway', 'friend', 'tell', 'reason', 'saw', 'last', 'final', 'kid', 'almost', 'put', 'least', 'sure', 'done', 'whole', 'place', 'complet', 'kind', 'expect', 'differ', 'shot', 'far', 'mean', 'anyth', 'book', 'laugh', 'might', 'name', 'sinc', 'begin', '2', 'probabl', 'woman', 'help', 'entertain', 'let', 'screen', 'call', 'tv', 'moment', 'away', 'read', 'yet', 'rather', 'worst', 'run', 'fun', 'lead', 'hard', 'audienc', 'idea', 'anyon', 'episod', 'american', 'found', 'appear', 'bore', 'especi', 'although', 'hope', 'cours', 'keep', 'anim', 'job', 'goe', 'move', 'sens', 'version', 'dvd', 'war', 'money', 'someon', 'mind', 'mayb', 'problem', 'true', 'hous', 'everyth', 'nice', 'second', 'rate', 'three', 'night', 'face', 'follow', 'recommend', 'product', 'main', 'worth', 'leav', 'human', 'special', 'excel', 'togeth', 'wast', 'everyon', 'sound', 'john', 'hand', '1', 'father', 'later', 'eye', 'said', 'view', 'instead', 'review', 'boy', 'high', 'hour', 'miss', 'classic', 'talk', 'wife', 'understand', 'left', 'care', 'black', 'death', 'open', 'murder', 'write', 'half', 'head', 'rememb', 'chang', 'viewer', 'fight', 'gener', 'surpris', 'includ', 'short', 'die', 'fall', 'less', 'els', 'entir', 'piec', 'involv', 'pictur', 'simpli', 'home', 'power', 'top', 'total', 'usual', 'budget', 'attempt', 'suppos', 'releas', 'hollywood', 'terribl', 'song', 'men', 'possibl', 'featur', 'portray', 'disappoint', 'poor', '3', 'coupl', 'camera', 'stupid', 'dead', 'wrong', 'low', 'produc', 'video', 'either', 'aw', 'definit', 'except', 'rest', 'given', 'absolut', 'women', 'lack', 'word', 'writer', 'titl', 'talent', 'decid', 'full', 'perfect', 'along', 'style', 'close', 'truli', 'school', 'save', 'emot', 'age', 'sex', 'next', 'bring', 'mr', 'case', 'killer', 'heart', 'comment', 'sort', 'creat', 'perhap', 'came', 'brother', 'sever', 'joke', 'art', 'dialogu', 'game', 'small', 'base', 'flick', 'written', 'sequenc', 'meet', 'earli', 'often', 'other', 'mother', 'develop', 'humor', 'actress', 'consid', 'dark', 'guess', 'amaz', 'unfortun', 'lost', 'light', 'exampl', 'cinema', 'drama', 'white', 'ye', 'experi', 'imagin', 'mention', 'stop', 'natur', 'forc', 'manag', 'felt', 'present', 'cut', 'children', 'fail', 'son', 'car', 'support', 'qualiti', 'ask', 'hit', 'side', 'voic', 'extrem', 'impress', 'wors', 'evil', 'went', 'stand', 'certainli', 'basic', 'oh', 'overal', 'favorit', 'horribl', 'mysteri', 'number', 'type', 'danc', 'wait', 'hero', 'alreadi', '5', 'learn', 'matter', '4', 'michael', 'genr', 'fine', 'despit', 'throughout', 'walk', 'success', 'histori', 'question', 'zombi', 'town', 'realiz', 'relationship', 'past', 'child', 'daughter', 'late', 'b', 'wish', 'credit', 'hate', 'event', 'theme', 'touch', 'citi', 'today', 'sometim', 'behind', 'god', 'twist', 'sit', 'annoy', 'stay', 'deal', 'abl', 'rent', 'pleas', 'edit', 'blood', 'deserv', 'comic', 'anyway', 'appar', 'soon', 'gave', 'etc', 'level', 'slow', 'chanc', 'score', 'bodi', 'brilliant', 'incred', 'figur', 'situat', 'self', 'major', 'stuff', 'decent', 'element', 'return', 'dream', 'obvious', 'order', 'continu', 'pace', 'ridicul', 'happi', 'add', 'highli', 'group', 'thank', 'ladi', 'novel', 'pain', 'speak', 'career', 'shoot', 'strang', 'heard', 'sad', 'polic', 'husband', 'import', 'break', 'took', 'cannot', 'strong', 'robert', 'predict', 'violenc', 'hilari', 'recent', 'countri', 'known', 'particularli', 'pick', 'documentari', 'season', 'critic', 'jame', 'compar', 'alon', 'obviou', 'told', 'state', 'visual', 'rock', 'offer', 'exist', 'theater', 'opinion', 'gore', 'hold', 'crap', 'result', 'room', 'hear', 'realiti', 'clich', 'effort', 'thriller', 'caus', 'explain', 'sequel', 'serious', 'king', 'local', 'ago', 'hell', 'none', 'note', 'allow', 'david', 'sister', 'simpl', 'femal', 'deliv', 'ok', 'class', 'convinc', 'check', 'suspens', 'win', 'buy', 'oscar', 'huge', 'valu', 'sexual', 'cool', 'scari', 'similar', 'excit', 'provid', 'exactli', 'apart', 'shown', 'avoid', 'seriou', 'english', 'whose', 'taken', 'cinematographi', 'shock', 'polit', 'spoiler', 'offic', 'across', 'middl', 'pass', 'street', 'messag', 'silli', 'charm', 'somewhat', 'modern', 'confus', 'filmmak', 'form', 'tale', 'singl', 'jack', 'mostli', 'william', 'attent', 'carri', 'sing', 'subject', 'five', 'prove', 'richard', 'stage', 'team', 'cop', 'unlik', 'georg', 'televis', 'monster', 'earth', 'cover', 'villain', 'pay', 'marri', 'toward', 'build', 'pull', 'parent', 'due', 'respect', 'fill', 'four', 'dialog', 'remind', 'futur', 'typic', 'weak', '7', 'cheap', 'intellig', 'atmospher', 'british', 'clearli', '80', 'paul', 'dog', 'non', '8', 'fast', 'artist', 'knew', 'crime', 'easili', 'escap', 'adult', 'doubt', 'detail', 'date', 'member', 'fire', 'romant', 'gun', 'drive', 'straight', 'fit', 'beyond', 'attack', 'imag', 'upon', 'posit', 'whether', 'fantast', 'peter', 'captur', 'appreci', 'aspect', 'ten', 'plan', 'discov', 'remain', 'period', 'near', 'realist', 'air', 'mark', 'red', 'dull', 'adapt', 'within', 'lose', 'spend', 'color', 'materi', 'chase', 'mari', 'storylin', 'forget', 'bunch', 'clear', 'lee', 'victim', 'nearli', 'box', 'york', 'inspir', 'match', 'mess', 'finish', 'standard', 'easi', 'truth', 'suffer', 'busi', 'bill', 'dramat', 'space', 'western', 'e', 'list', 'battl', 'notic', 'de', 'french', 'ad', '9', 'tom', 'larg', 'among', 'eventu', 'train', 'accept', 'agre', 'soundtrack', 'spirit', 'third', 'teenag', 'soldier', 'adventur', 'suggest', 'famou', 'sorri', 'drug', 'cri', 'normal', 'babi', 'ultim', 'troubl', 'contain', 'certain', 'cultur', 'romanc', 'rare', 'lame', 'somehow', 'disney', 'mix', 'gone', 'cartoon', 'student', 'reveal', 'fear', 'suck', 'kept', 'attract', 'appeal', 'premis', 'greatest', 'secret', 'design', 'shame', 'throw', 'copi', 'scare', 'wit', 'america', 'admit', 'brought', 'particular', 'relat', 'screenplay', 'whatev', 'pure', '70', 'averag', 'harri', 'master', 'describ', 'treat', 'male', '20', 'issu', 'fantasi', 'warn', 'inde', 'forward', 'background', 'free', 'project', 'japanes', 'memor', 'poorli', 'award', 'locat', 'amus', 'potenti', 'struggl', 'magic', 'weird', 'societi', 'okay', 'accent', 'imdb', 'doctor', 'hot', 'water', '30', 'express', 'dr', 'alien', 'odd', 'choic', 'crazi', 'studio', 'fiction', 'control', 'becam', 'masterpiec', 'difficult', 'fli', 'joe', 'scream', 'costum', 'lover', 'refer', 'uniqu', 'remak', 'girlfriend', 'vampir', 'prison', 'execut', 'wear', 'jump', 'wood', 'unless', 'creepi', 'cheesi', 'superb', 'otherwis', 'parti', 'ghost', 'roll', 'public', 'mad', 'depict', 'moral', 'jane', 'earlier', 'week', 'badli', 'dumb', 'fi', 'grow', 'flaw', 'deep', 'sci', 'maker', 'cat', 'older', 'connect', 'footag', 'plenti', 'bother', 'outsid', 'stick', 'gay', 'catch', 'co', 'plu', 'popular', 'equal', 'social', 'disturb', 'quickli', 'perfectli', 'dress', 'era', '90', 'mistak', 'lie', 'previou', 'ride', 'combin', 'band', 'concept', 'rich', 'answer', 'surviv', 'front', 'sweet', 'christma', 'insid', 'bare', 'eat', 'concern', 'listen', 'beat', 'ben', 'c', 'serv', 'term', 'meant', 'german', 'la', 'hardli', 'stereotyp', 'law', 'innoc', 'desper', 'promis', 'memori', 'cute', 'intent', 'variou', 'steal', 'inform', 'brain', 'post', 'tone', 'island', 'amount', 'track', 'compani', 'nuditi', 'claim', 'store', '50', 'flat', 'hair', 'univers', 'land', 'kick', 'scott', 'fairli', 'danger', 'player', 'crew', 'plain', 'step', 'toni', 'share', 'centuri', 'tast', 'engag', 'achiev', 'cold', 'travel', 'record', 'suit', 'rip', 'sadli', 'manner', 'wrote', 'spot', 'tension', 'fascin', 'intens', 'familiar', 'depth', 'remark', 'burn', 'histor', 'destroy', 'sleep', 'purpos', 'languag', 'ignor', 'ruin', 'delight', 'italian', 'unbeliev', 'soul', 'abil', 'collect', 'detect', 'clever', 'violent', 'rape', 'reach', 'door', 'liter', 'trash', 'scienc', 'caught', 'reveng', 'commun', 'creatur', 'approach', 'trip', 'fashion', 'intrigu', 'paint', 'skill', 'introduc', 'complex', 'channel', 'camp', 'christian', 'extra', 'hole', 'mental', 'limit', 'ann', 'immedi', 'slightli', 'comput', 'mere', '6', 'million', 'conclus', 'slasher', 'suddenli', 'imposs', 'neither', 'teen', 'crimin', 'physic', 'nation', 'spent', 'respons', 'planet', 'fake', 'receiv', 'blue', 'sick', 'bizarr', 'embarrass', 'indian', '15', 'ring', 'drop', 'pop', 'drag', 'haunt', 'pointless', 'suspect', 'edg', 'search', 'handl', 'common', 'biggest', 'faith', 'hurt', 'arriv', 'technic', 'angel', 'dad', 'genuin', 'f', 'awesom', 'solid', 'former', 'focu', 'van', 'colleg', 'count', 'heavi', 'tear', 'wall', 'rais', 'younger', 'laughabl', 'visit', 'sign', 'excus', 'fair', 'cult', 'motion', 'key', 'tough', 'super', 'desir', 'stun', 'addit', 'cloth', 'exploit', 'tortur', 'smith', 'davi', 'race', 'author', 'cross', 'jim', 'compel', 'minor', 'consist', 'focus', 'chemistri', 'pathet', 'commit', 'park', 'tradit', 'frank', 'obsess', 'grade', '60', 'asid', 'brutal', 'steve', 'somewher', 'u', 'depress', 'grant', 'rule', 'opportun', 'explor', 'honest', 'besid', 'dub', 'anti', 'intend', 'trailer', 'bar', 'longer', 'regard', 'west', 'scientist', 'decad', 'judg', 'silent', 'creativ', 'armi', 'wild', 'stewart', 'south', 'g', 'draw', 'road', 'govern', 'boss', 'ex', 'practic', 'surprisingli', 'gang', 'festiv', 'motiv', 'club', 'redeem', 'green', 'london', 'page', 'display', 'aliv', 'machin', 'idiot', 'militari', 'thrill', 'repeat', '100', 'nobodi', 'folk', 'yeah', '40', 'garbag', 'journey', 'ground', 'smile', 'tire', 'mood', 'bought', 'stone', 'cost', 'sam', 'noir', 'mouth', 'agent', 'terrif', 'utterli', 'requir', 'honestli', 'sexi', 'area', 'report', 'geniu', 'investig', 'humour', 'enter', 'glad', 'serial', 'passion', 'narr', 'occasion', 'climax', 'marriag', 'studi', 'industri', 'ship', 'demon', 'center', 'charli', 'nowher', 'hors', 'bear', 'loos', 'hang', 'wow', 'graphic', 'giant', 'admir', 'send', 'loud', 'damn', 'nake', 'profession', 'rel', 'subtl', 'blow', 'bottom', 'insult', 'batman', 'boyfriend', 'doubl', 'r', 'kelli', 'initi', 'frame', 'opera', 'gem', 'challeng', 'drawn', 'cinemat', 'church', 'affect', 'evid', 'l', 'seek', 'nightmar', 'fulli', 'j', 'arm', 'essenti', 'conflict', 'grace', 'christoph', 'wind', 'henri', 'witch', 'narrat', 'assum', 'push', 'hunt', 'chri', 'wise', 'nomin', 'repres', 'month', 'affair', 'sceneri', 'avail', 'hide', 'bond', 'thu', 'justic', 'smart', 'outstand', 'interview', 'flashback', 'constantli', 'satisfi', 'presenc', 'central', 'bed', 'content', 'sell', 'iron', 'gag', 'everybodi', 'slowli', 'hotel', 'hire', 'system', 'charl', 'adam', 'individu', 'hey', 'thrown', 'jone', 'mediocr', 'allen', 'lesson', 'ray', 'billi', 'photographi', 'cameo', 'pari', 'fellow', 'strike', 'independ', 'brief', 'rise', 'absurd', 'neg', 'impact', 'phone', 'born', 'model', 'ill', 'angl', 'spoil', 'fresh', 'abus', 'likabl', 'discuss', 'hill', 'sight', 'ahead', 'photograph', 'sent', 'occur', 'logic', 'blame', 'shine', 'mainli', 'bruce', 'commerci', 'skip', 'forev', 'teacher', 'surround', 'held', 'segment', 'blond', 'zero', 'summer', 'trap', 'satir', 'resembl', 'fool', 'ball', 'six', 'queen', 'sub', 'tragedi', 'twice', 'reaction', 'pack', 'bomb', 'hospit', 'protagonist', 'will', 'mile', 'sport', 'jerri', 'vote', 'drink', 'trust', 'mom', 'encount', 'plane', 'station', 'current', 'al', 'program', 'martin', 'celebr', 'choos', 'join', 'lord', 'tragic', 'field', 'favourit', 'round', 'jean', 'robot', 'vision', 'arthur', 'tie', 'roger', 'random', 'fortun', 'intern', 'psycholog', 'dread', 'epic', 'nonsens', 'improv', 'prefer', 'formula', 'pleasur', 'highlight', 'legend', '11', 'dollar', 'tape', 'thin', 'fox', 'object', 'wide', 'gorgeou', 'porn', 'influenc', 'ugli', 'buddi', 'nasti', 'prepar', 'ii', 'reflect', 'warm', 'progress', 'supposedli', 'worthi', 'youth', 'unusu', 'latter', 'length', 'crash', 'superior', 'seven', 'shop', 'childhood', 'remot', 'theatr', 'disgust', 'funniest', 'paid', 'pilot', 'fell', 'convers', 'trick', 'castl', 'gangster', 'disast', 'rob', 'establish', 'suicid', 'ident', 'heaven', 'disappear', 'mine', 'decis', 'forgotten', 'heroin', 'tend', 'singer', 'mask', 'brian', 'partner', 'desert', 'recogn', 'alan', 'thoroughli', 'stuck', 'ms', 'sky', 'p', 'replac', 'accur', 'market', 'clue', 'commentari', 'eddi', 'uncl', 'andi', 'seemingli', 'danni', 'devil', 'jackson', 'therefor', 'refus', 'pair', 'that', 'accid', 'river', 'fate', 'fault', 'ed', 'unit', 'tune', 'afraid', 'russian', 'clean', 'hidden', 'stephen', 'captain', 'convey', 'instanc', 'irrit', 'quick', 'readi', 'test', 'european', 'frustrat', 'insan', 'daniel', '1950', 'food', 'rescu', 'chines', 'wed', 'angri', 'dirti', 'lock', 'joy', 'price', 'steven', 'bland', 'cage', 'anymor', 'rang', 'wooden', 'jason', 'n', 'news', 'rush', 'board', 'martial', 'led', 'worri', 'twenti', '12', 'cgi', 'symbol', 'transform', 'hunter', 'johnni', 'sentiment', 'invent', 'onto', 'piti', 'x', 'explan', 'attitud', 'process', 'awar', 'owner', 'aim', 'floor', 'energi', 'target', 'necessari', 'favor', 'religi', 'opposit', 'chick', 'blind', 'insight', 'window', 'movement', 'mountain', 'comparison', 'research', 'deepli', 'possess', 'whatsoev', 'grand', 'comed', 'rain', 'shadow', 'mid', 'began', 'bank', 'princ', 'parodi', 'taylor', 'pre', 'friendship', 'credibl', 'weapon', 'teach', 'dougla', 'flesh', 'terror', 'bloodi', 'hint', 'protect', 'marvel', 'drunk', 'anybodi', 'load', 'leader', 'watchabl', 'accord', 'superman', 'freddi', 'brown', 'seat', 'appropri', 'tim', 'hitler', 'jeff', 'unknown', 'charg', 'knock', 'villag', 'keaton', 'empti', 'unnecessari', 'england', 'media', 'enemi', 'utter', 'perspect', 'strength', 'wave', 'buck', 'dare', 'craft', 'ford', 'kiss', 'contrast', 'nativ', 'correct', 'distract', 'chill', 'anywher', 'knowledg', 'magnific', 'speed', 'nazi', 'soap', 'ice', 'fred', '1980', 'breath', 'mission', 'jr', 'moon', 'joan', 'crowd', 'soft', 'kate', 'frighten', '000', 'hundr', 'nick', 'dick', 'dan', 'dozen', 'somebodi', 'radio', 'simon', 'andrew', 'loss', 'academi', 'thousand', 'shakespear', 'quot', 'sum', 'account', 'vehicl', 'root', '1970', 'convent', 'behavior', 'leg', 'gold', 'regular', 'compet', 'pretenti', 'worker', 'demand', 'japan', 'candi', 'explos', 'lynch', 'stretch', 'interpret', 'notabl', 'privat', 'debut', 'constant', 'tarzan', 'translat', 'revolv', 'prais', 'spi', 'sea', 'jesu', 'sat', 'quiet', 'failur', 'ass', 'threaten', 'franc', 'technolog', 'met', 'toy', 'higher', 'aid', 'punch', 'kevin', 'vh', 'abandon', 'mike', 'interact', 'confront', 'separ', 'bet', 'command', 'recal', 'belong', 'site', 'stunt', 'gotten', 'servic', 'techniqu', 'bug', 'freak', 'foot', 'cabl', 'fu', 'african', 'capabl', 'bright', 'jimmi', 'clark', 'presid', 'fat', 'boat', 'succeed', 'stock', 'gene', 'spanish', 'structur', 'kidnap', 'paper', 'whilst', 'belief', 'factor', 'realis', 'attend', 'educ', 'complic', 'tree', 'realism', 'bob', 'witti', 'santa', 'finest', 'assist', 'broken', 'observ', 'v', 'determin', 'up', 'smoke', 'depart', 'hat', 'routin', 'rubbish', 'domin', 'oper', 'fame', 'lewi', 'hook', 'kinda', 'morgan', 'foreign', 'advanc', 'safe', 'lone', 'numer', 'rank', 'shallow', 'civil', 'vs', 'washington', 'rose', 'werewolf', 'shape', 'gari', 'morn', 'winner', 'accomplish', 'ordinari', 'kong', 'grab', 'peac', 'virtual', 'whenev', 'offens', 'luck', 'h', 'contriv', 'complain', 'activ', 'bigger', 'patient', 'welcom', 'unfunni', 'pretend', 'dimension', 'con', 'trek', 'lesbian', 'eric', 'flash', 'wake', 'cain', 'code', 'dri', 'guard', 'albert', 'dancer', 'manipul', 'corrupt', 'statu', 'gain', 'signific', 'awkward', 'context', 'sourc', 'speech', 'psycho', 'anthoni', '13', 'sean', 'corni', 'clip', 'theatric', 'religion', 'reli', 'curiou', 'w', 'priest', 'advic', 'addict', 'flow', 'asian', 'specif', 'howard', 'jennif', 'skin', 'secur', 'promot', 'comfort', 'golden', 'core', 'organ', 'luke', 'cheat', 'lucki', 'cash', 'associ', 'lower', 'dislik', 'spell', 'frankli', 'balanc', 'frequent', 'devic', 'contribut', 'regret', 'wing', 'degre', 'sake', 'print', 'lake', 'forgiv', 'thoma', 'mass', 'betti', 'unexpect', 'crack', 'gordon', 'amateur', 'construct', 'invit', 'depend', 'unfold', 'grown', 'categori', 'matur', 'intellectu', 'anna', 'condit', 'grew', 'honor', 'walter', 'mirror', 'sudden', 'veteran', 'spectacular', 'sole', 'demonstr', 'grip', 'freedom', 'liner', 'experienc', 'gift', 'robin', 'overli', 'meanwhil', 'card', 'section', 'circumst', 'sheriff', 'unabl', 'crappi', 'colour', 'oliv', 'brilliantli', 'theori', 'subtitl', 'drew', 'laughter', 'cook', 'path', 'pile', 'parker', 'sheer', 'altern', 'matt', 'lawyer', 'defin', 'hall', 'wander', 'accident', 'relief', 'treatment', 'sinatra', 'captiv', 'hank', 'dragon', 'halloween', 'gratuit', 'moor', 'wayn', 'wound', 'broadway', 'jacki', 'unintent', 'barbara', 'cowboy', 'kung', 'k', 'winter', 'surreal', 'canadian', 'spoof', 'statement', 'cheer', 'compos', 'treasur', 'fare', 'fish', 'gonna', 'emerg', 'unrealist', 'sensit', 'victor', 'woodi', 'driven', 'sympathet', 'ran', 'neighbor', 'authent', 'menac', 'expos', 'overlook', 'topic', 'glass', 'michel', 'gross', 'ancient', 'handsom', 'chief', 'feet', 'russel', 'comedian', 'nevertheless', 'network', 'built', 'pleasant', 'stranger', 'cinderella', 'contemporari', 'underr', 'gori', 'earn', 'miser', 'blockbust', 'consider', 'letter', 'endless', 'solv', 'brook', 'switch', 'edward', 'convict', 'virgin', 'bullet', 'victoria', 'joseph', 'scale', '0', 'chosen', 'alex', 'scenario', 'cynic', 'com', 'sword', 'gut', 'curs', 'outrag', 'wrap', 'substanc', 'screenwrit', 'driver', 'proper', 'monkey', 'juli', 'uk', 'par', 'remov', 'indic', 'bird', 'court', 'rental', 'loser', 'inevit', 'consequ', 'naiv', 'nanci', 'grave', 'advertis', 'roy', 'fatal', 'slap', 'invis', 'brave', 'le', 'bridg', 'germani', 'provok', 'footbal', 'anger', 'ador', 'loui', 'alcohol', 'anderson', 'chan', 'stumbl', 'ryan', 'professor', 'willi', 'bat', 'assassin', 'patrick', '1930', 'sharp', 'australian', 'deni', 'refresh', 'strongli', 'trilog', 'amateurish', 'eight', 'saturday', 'cell', 'heck', 'liber', 'lousi', 'ape', 'sin', 'resid', 'san', 'justifi', 'vagu', 'indi', 'sympathi', 'creator', 'defeat', 'terrifi', 'reput', 'mini', 'prevent', 'tediou', 'endur', 'expert', 'tabl', 'task', 'imit', 'basebal', 'rival', 'offend', 'trial', 'employ', 'che', 'pitch', 'dig', 'complaint', 'beach', 'europ', 'max', 'weekend', 'fairi', 'murphi', 'format', 'risk', 'purchas', 'glimps', 'nois', 'reminisc', 'titan', 'tini', 'hype', 'bite', 'powel', 'harsh', 'north', 'till', 'strip', '14', 'prime', 'fals', 'asleep', 'destruct', 'descript', 'revel', 'africa', 'texa', 'spin', 'surfac', 'semi', 'uninterest', 'sitcom', 'arrest', 'excess', 'inner', 'twin', 'hitchcock', 'controversi', 'makeup', 'dinosaur', 'argu', 'maintain', 'massiv', 'ideal', 'ludicr', 'insist', 'expens', 'melodrama', 'kim', 'stare', 'reject', 'supernatur', 'press', 'erot', 'subplot', 'host', 'nail', 'atroci', 'columbo', 'ga', 'ala', 'forest', 'presum', 'notch', 'dude', 'cant', 'identifi', 'guest', 'character', 'forgett', 'crude', 'plagu', 'method', 'closer', 'foster', 'beast', 'border', 'landscap', 'princess', 'ear', 'lion', 'previous', 'accus', 'birth', 'aunt', 'damag', 'jungl', 'bound', 'pacino', 'urban', 'storytel', 'propaganda', 'guid', 'chose', 'emma', 'nude', 'jess', 'thirti', 'doll', 'whoever', 'mate', 'mainstream', 'warrior', 'pet', '25', 'gritti', 'latest', 'cooper', 'friday', 'merit', 'deadli', 'upset', 'exact', 'size', 'poster', 'buff', 'rough', 'citizen', 'settl', 'blend', 'wilson', 'corps', 'sun', 'popul', 'ton', 'warner', 'contact', '1990', 'contest', 'metal', 'bu', 'alic', 'widow', 'pitt', 'select', 'overcom', 'rat', 'environ', 'mgm', 'guilti', 'revolut', 'particip', 'link', 'lift', 'ted', 'matrix', '1960', 'prostitut', 'accompani', 'corpor', 'corner', 'exagger', 'afternoon', 'moron', 'johnson', 'clair', 'doom', 'leagu', 'instal', 'sincer', 'multipl', 'friendli', 'hood', 'holm', 'advis', 'junk', 'defend', 'hip', 'blah', 'examin', 'aka', 'sunday', 'grim', 'campi', 'irish', 'string', 'lugosi', 'shake', 'shut', 'varieti', 'pro', 'rachel', 'tight', 'icon', 'confid', 'medic', 'jaw', 'mexican', 'attach', 'sullivan', 'goal', 'directli', 'denni', 'terrorist', 'courag', 'legendari', 'truck', 'sentenc', 'duke', 'vietnam', 'bourn', 'breast', 'sarah', 'prior', 'dean', 'yell', 'split', 'un', 'entri', 'nose', 'hong', 'donald', 'proceed', 'behav', 'stolen', 'gather', 'concentr', 'crush', 'lifetim', 'confess', 'unconvinc', 'borrow', 'everywher', 'buri', 'jerk', 'swim', 'forth', 'julia', 'spite', 'lip', 'california', 'turkey', 'deliveri', 'pan', 'reward', 'freeman', 'hoffman', 'china', 'proud', 'downright', 'quest', 'flight', 'offici', 'jail', 'lazi', 'notori', 'jon', 'worthwhil', 'fabul', 'inept', 'encourag', 'sink', 'betray', 'fade', 'sir', 'relev', 'imageri', 'susan', 'retard', 'bell', 'lisa', 'shower', 'bag', 'cousin', 'branagh', 'teeth', 'storm', 'survivor', 'summari', 'tremend', 'alright', 'quirki', 'stab', 'toler', 'mexico', 'hugh', 'bride', 'finger', 'facial', 'trade', 'shark', 'blown', 'bitter', 'hyster', 'pose', 'ha', 'von', 'larri', 'cruel', 'christ', 'ron', 'afterward', 'address', 'scheme', 'ned', 'bone', 'screw', 'tour', 'snake', 'beg', 'pursu', 'swear', 'distinct', 'feed', 'thumb', 'traci', 'occas', 'chair', 'raw', 'photo', 'mechan', 'obscur', 'stomach', 'southern', 'necessarili', 'hardi', 'gruesom', 'render', 'sidney', 'heavili', 'argument', 'holiday', 'chain', 'resist', 'cabin', 'indulg', 'racist', 'india', 'philip', 'understood', 'satan', 'lay', 'fourth', 'belov', 'midnight', 'tongu', 'forgot', 'integr', 'pregnant', 'stalk', 'outfit', 'obnoxi', 'inhabit', 'magazin', 'deeper', 'restor', 'garden', 'slapstick', '17', 'ticket', 'carol', 'incid', 'lincoln', 'shoe', 'brad', 'devot', 'lili', 'guarante', 'underground', 'divorc', 'benefit', 'disbelief', 'anticip', 'elizabeth', 'maria', 'sandler', 'cring', 'mildli', 'capit', 'greater', 'bbc', 'slave', 'creation', 'explod', 'princip', 'amazingli', 'introduct', 'extraordinari', 'halfway', 'lesli', 'funnier', 'enhanc', 'text', 'punish', 'overwhelm', 'advantag', 'wreck', 'extent', 'transfer', 'tap', 'jessica', 'horrif', 'plant', 'error', 'deliber', 'lo', 'east', 'lane', 'preview', 'dynam', 'basi', '2000', 'miller', 'homosexu', 'appli', 'vacat', 'ensu', 'sophist', 'vincent', 'miscast', 'spoken', 'via', 'bollywood', 'measur', 'mansion', 'sleazi', 'uncomfort', 'reed', 'steel', 'elev', 'extend', 'beer', 'breathtak', 'hippi', 'goofi', 'savag', 'conceiv', 'melt', 'daili', 'overact', 'alter', 'fix', 'mous', 'blair', 'cathol', 'dentist', 'stanley', 'assign', 'subsequ', 'sacrific', 'succe', 'properli', 'oppos', 'carpent', 'inspector', 'burt', 'everyday', 'nowaday', 'circl', 'massacr', 'block', 'neck', 'laura', 'access', 'portrait', 'grey', 'fallen', 'mob', 'fay', 'lesser', 'concert', 'pool', 'christi', 'seagal', 'relax', 'sinist', 'competit', 'jewish', 'react', 'chees', 'isol', 'usa', 'jake', 'chop', 'lyric', 'spiritu', 'ironi', 'appal', 'creep', 'immens', 'suitabl', 'nonetheless', 'nine', '2006', 'stink', 'retir', 'user', 'shirt', 'sold', 'needless', 'franchis', 'reduc', 'navi', 'rage', 'showcas', 'adopt', 'spring', 'luci', 'nut', 'bulli', 'stanwyck', 'uninspir', 'zone', 'jay', 'digit', 'nurs', 'per', 'bath', 'asham', 'illustr', '2001', 'amongst', 'oddli', 'broadcast', 'laid', 'upper', 'sutherland', '1940', 'disguis', 'baker', 'stylish', 'brando', 'throat', 'fulfil', 'aspir', 'wanna', 'pound', 'wwii', 'pride', 'thief', '18', 'neighborhood', 'nobl', 'endear', 'impli', 'em', 'distribut', 'prop', 'tens', 'dawn', 'diseas', 'dinner', '16', 'cinematograph', 'bett', 'albeit', 'coher', 'rochest', 'bo', 'shoulder', 'shift', 'poignant', 'wash', 'silenc', 'shout', 'snow', 'function', 'surf', 'rebel', 'knife', 'contract', 'forti', 'matthau', 'instinct', 'reunion', 'proof', 'heat', 'eeri', 'silver', 'elvira', 'mindless', 'widmark', 'horrend', 'internet', 'chuck', 'height', 'derek', 'henc', 'duti', 'cannib', 'cancel', 'absorb', 'premier', 'etern', 'innov', 'pie', 'musician', 'mill', 'neat', 'glori', 'spielberg', 'greatli', 'repetit', 'incoher', 'alik', 'elvi', 'torn', 'bang', 'blank', 'trite', 'precis', 'horrifi', 'burton', 'redempt', 'fbi', 'racism', 'nelson', 'lovabl', 'itali', 'britain', 'infam', 'homag', 'announc', 'diamond', 'crisi', 'wealthi', 'ensembl', 'helen', 'resolut', 'chaplin', 'wilder', 'dedic', 'parallel', 'pat', 'happili', 'hammer', 'flop', 'streisand', 'oil', 'disagre', 'mar', 'plastic', 'conclud', 'st', 'broke', 'triumph', 'factori', 'carter', 'cube', 'climb', 'chuckl', 'vega', 'own', 'fighter', 'march', 'row', 'weight', 'bush', 'rocket', 'meaning', 'dane', 'enorm', 'dump', 'sensibl', 'wherea', 'unforgett', 'boot', 'kurt', 'spare', 'mst3k', 'lust', 'luca', 'thug', 'stress', 'adequ', 'arnold', 'bobbi', 'engin', 'butt', 'dear', 'brand', 'caricatur', 'threat', 'difficulti', 'rap', 'fifti', 'karloff', 'arrog', 'secretari', 'elabor', 'homeless', 'journalist', 'swing', 'polish', 'ego', 'fest', 'ralph', 'hamlet', 'barri', 'flynn', 'unbear', 'simpson', 'float', 'grate', 'tool', 'induc', 'arrang', 'fanci', 'puppet', 'resort', 'conspiraci', 'spike', 'basement', 'phillip', 'tribut', 'boll', 'pig', 'guilt', 'exercis', 'muppet', 'choreograph', 'cruis', 'korean', 'toilet', 'ward', 'tower', 'file', 'ham', 'fianc', 'editor', 'layer', 'puzzl', 'item', 'scarecrow', 'slip', 'babe', 'medium', 'document', '24', 'stan', 'catherin', 'territori', 'librari', 'philosoph', 'superfici', 'slaughter', 'persona', 'inexplic', 'larger', 'denzel', 'doc', 'transit', 'glover', 'portion', 'assur', 'spark', 'minim', 'orient', 'financi', 'pg', 'sneak', 'shi', 'jeremi', 'owe', 'ban', 'jet', 'wolf', 'boredom', 'curti', 'walken', 'dorothi', 'ambigu', 'backdrop', 'cusack', 'eleph', 'metaphor', 'multi', 'whale', 'profound', 'hudson', 'ultra', 'viru', 'rave', 'birthday', 'stiff', 'notion', 'union', 'hack', 'elsewher', '2005', 'gadget', 'implaus', 'reader', 'distanc', 'hawk', 'eastwood', 'poison', 'squar', 'afford', '1st', 'disc', 'urg', 'slight', 'eva', 'deriv', 'newspap', 'canada', 'lloyd', 'pad', 'superhero', 'bibl', 'cure', 'heston', 'sadist', 'restaur', 'charisma', 'essenc', 'montag', 'drown', 'huh', 'button', 'health', 'skit', 'spread', 'companion', 'dealt', 'invest', 'gradual', 'fetch', 'muslim', 'estat', 'lab', 'peak', 'godfath', 'maniac', 'scoobi', 'servant', 'alli', 'subtleti', 'cup', 'tea', 'kane', 'countless', 'gothic', 'ritter', 'miik', 'elect', 'iii', 'briefli', 'salli', 'heroic', 'electr', 'charismat', 'neil', 'tender', 'resourc', 'bud', 'nuanc', 'ingredi', 'reel', 'toss', 'cole', 'grandmoth', 'admittedli', 'wannab', 'mafia', 'mild', 'stronger', 'label', 'reev', 'poverti', 'punk', 'kubrick', 'pit', 'dawson', 'shall', 'gate', 'pauli', 'stood', 'carrey', 'burst', 'cardboard', 'assault', 'fond', 'cox', 'useless', 'smash', 'ian', 'astair', 'tag', 'smooth', 'easier', 'outcom', 'terri', 'updat', 'bakshi', 'resolv', 'exchang', 'samurai', 'melodramat', 'divers', 'increasingli', 'fist', 'vari', 'sketch', 'qualifi', 'vulner', '2002', 'rex', 'coincid', 'insert', 'be', 'templ', 'scratch', 'conveni', 'tame', 'luckili', 'reynold', 'suspend', 'blast', 'brillianc', 'gotta', 'coach', 'matthew', 'jami', 'seventi', 'ambiti', 'farm', 'hamilton', 'walker', 'fisher', 'meat', 'strictli', 'pin', 'soprano', 'nuclear', 'kudo', 'discoveri', 'timeless', 'worthless', 'struck', 'grasp', 'empir', 'monk', 'revers', 'spooki', 'eccentr', 'instantli', 'convolut', 'butcher', 'recreat', 'ninja', 'closet', 'clock', 'joey', 'cave', 'brosnan', 'communist', 'eighti', 'inconsist', 'importantli', 'fifteen', 'wipe', 'selfish', 'evok', 'norman', 'pal', 'seller', 'declar', 'gray', 'sloppi', 'bleak', 'miracl', 'mitchel', 'clown', 'cliff', 'sidekick', 'partli', 'psychiatrist', 'destin', 'lifestyl', 'flawless', '45', 'cheek', 'stoog', 'enthusiast', 'chew', 'debat', 'australia', 'farc', 'superbl', 'aforement', 'ho', 'websit', 'seed', 'piano', 'dire', 'wrestl', 'bash', 'akshay', 'dash', 'drivel', 'kitchen', 'regardless', 'wick', 'soviet', 'anni', 'splatter', 'incompet', 'slice', 'directori', 'emili', 'abc', 'pressur', 'cia', 'recov', 'seduc', 'curios', 'artifici', 'flower', 'cameron', 'dave', 'beaten', 'pleasantli', 'chapter', 'prize', 'duo', 'boil', 'judi', 'jar', 'increas', 'glow', 'suppli', 'distant', 'lou', 'helicopt', 'blob', 'cagney', 'mann', 'doo', 'ken', 'drunken', 'turner', 'goldberg', 'splendid', 'psychot', 'hop', 'web', 'craig', 'panic', 'francisco', 'favour', 'combat', 'perri', 'eleg', 'craven', 'glenn', 'ranger', 'ellen', 'laurel', '20th', 'falk', 'gentl', 'fx', 'gandhi', 'hatr', 'min', 'modesti', 'philosophi', 'rid', 'graduat', 'ruth', 'plausibl', 'flip', 'slightest', 'greek', 'alexand', 'wizard', 'shortli', 'preciou', 'tall', 'futurist', 'harm', 'legal', 'dracula', 'we', 'lend', 'unpleas', 'jealou', 'felix', 'manhattan', 'ocean', 'knight', 'holi', 'fund', 'nod', 'digniti', 'bless', 'thread', 'tank', 'overdon', 'giallo', 'explicit', 'reviv', 'ami', 'scientif', 'childish', 'forbidden', 'mock', 'verhoeven', 'awaken', 'awe', '2004', 'thick', 'pirat', 'nerv', 'unwatch', '99', 'elderli', 'eve', 'repeatedli', 'broad', 'yesterday', 'mel', 'torment', 'fever', 'margaret', 'ambit', 'acclaim', 'bin', 'custom', 'roman', 'kay', 'lean', 'automat', 'ah', 'eas', 'absenc', 'griffith', 'timothi', 'rivet', 'politician', 'royal', 'stiller', 'uniform', 'publish', 'launch', 'romero', 'homicid', 'antic', 'wallac', 'stinker', 'tomato', 'gabriel', 'termin', 'crook', 'darker', 'transport', 'warren', 'pulp', 'purpl', 'pierc', 'bathroom', 'phrase', 'foul', 'sunshin', 'choreographi', 'ought', 'prom', 'donna', 'revolutionari', 'album', 'pray', 'hollow', 'contrari', 'sixti', 'coloni', 'viciou', 'awak', 'horrid', 'juvenil', 'kenneth', 'li', 'rambo', '2003', 'q', 'evolv', 'eyr', 'brazil', 'packag', 'marin', 'saint', 'karen', 'blade', 'option', 'overr', 'boast', 'beatti', 'nerd', 'mildr', 'kapoor', 'mummi', 'defi', 'ireland', 'conserv', 'twelv', 'dose', 'stole', 'candid', 'ramon', 'confirm', 'detract', 'flame', 'astonish', 'trio', 'protest', 'altman', 'funer', 'collabor', 'natali', 'jazz', 'global', 'fulci', 'kirk', 'bottl', 'shade', 'tommi', 'destini', 'audio', 'nicholson', 'leap', 'blake', 'spit', 'bull', 'yellow', 'whip', 'mystic', 'racial', 'delici', 'enterpris', 'altogeth', 'vivid', 'merci', 'meaningless', 'popcorn', 'fonda', 'todd', 'neo', 'swedish', 'harder', 'pseudo', 'visibl', 'threw', 'bedroom', 'adolesc', 'inherit', 'staff', 'reunit', 'enchant', 'fanat', 'ruthless', 'respond', 'leonard', 'moodi', 'voight', 'roommat', 'edi', 'tip', 'jew', 'bust', 'lawrenc', 'decor', 'reserv', 'uneven', 'await', 'atlanti', 'lemmon', 'synopsi', 'kennedi', 'wire', 'suspici', 'befriend', 'crocodil', 'exhibit', 'madonna', 'incident', 'clint', 'rural', 'dimens', 'chao', 'clumsi', 'bargain', 'ventur', 'garner', 'centr', 'unsettl', 'carl', 'audit', '2007', 'bradi', 'abysm', 'voyag', 'palma', 'holli', 'bold', 'imperson', 'poetic', 'acknowledg', 'daddi', 'timon', '2nd', 'wealth', 'humili', 'ant', 'neglect', 'elimin', 'immigr', 'troop', 'cd', 'characterist', 'lit', 'mall', 'hart', 'nearbi', 'trail', 'cuba', 'tiger', 'cari', 'echo', 'versu', 'prejudic', 'paus', 'saga', 'solo', 'celluloid', 'mickey', 'mistaken', 'infect', 'repuls', 'collaps', 'domest', 'marshal', 'jeffrey', 'pun', 'homer', 'leon', 'inan', 'pant', 'equip', 'interrupt', 'harvey', 'chest', 'cake', 'milk', 'inappropri', 'ginger', 'tribe', 'sore', 'assembl', 'promin', 'coat', 'gear', 'hbo', 'apolog', 'coffe', '1996', 'undoubtedli', 'olivi', 'embrac', 'devast', 'furthermor', 'pen', 'colleagu', 'florida', 'airplan', 'humbl', 'consum', 'retain', 'institut', 'primari', 'trace', 'highest', 'maggi', 'exot', 'vulgar', 'instant', 'brooklyn', 'aveng', 'polanski', 'pot', 'jenni', 'solut', 'colonel', 'ya', 'dutch', 'poke', 'outer', 'seduct', 'smaller', 'principl', 'descend', 'wive', 'illog', 'disabl', 'strain', 'sale', 'linda', '3rd', 'rick', 'dian', 'gender', '1999', 'cope', 'godzilla', 'bowl', 'dive', 'beneath', 'dud', 'gloriou', 'vast', 'predecessor', 'gundam', 'hal', 'scope', 'mixtur', 'secondli', 'rabbit', 'yard', 'bubbl', 'glamor', 'devoid', 'lol', 'blatant', 'inferior', 'primarili', 'cue', 'alfr', 'breed', 'museum', 'arab', 'z', 'aggress', 'disjoint', 'countrysid', 'streep', 'pearl', 'trademark', 'hideou', 'shirley', 'april', 'casual', 'et', 'senseless', 'shelf', 'simplist', 'alert', 'myer', 'invas', 'garbo', 'talki', 'domino', 'grinch', 'slide', 'robberi', 'unhappi', 'uwe', 'rendit', 'oz', 'sh', 'vanish', 'stellar', 'loyal', 'acid', 'disgrac', 'mayor', 'mail', 'khan', 'hardcor', 'stir', 'defens', 'applaud', 'hopeless', 'experiment', 'illeg', 'maci', 'stack', 'obtain', 'boom', 'robinson', 'rifl', 'blew', 'spider', 'incomprehens', 'emphasi', 'span', 'fri', 'craze', 'wont', 'declin', 'tempt', 'soccer', 'dicken', 'scroog', 'counter', 'recruit', 'hartley', 'topless', 'dismiss', 'berlin', 'amanda', 'psychic', 'grandfath', 'tenant', 'diana', 'faster', 'sibl', 'trashi', 'bitch', 'riot', 'intim', 'porno', 'justin', 'shed', 'sympath', 'goer', 'revolt', 'ethnic', 'wet', 'shaw', 'resurrect', 'woo', 'parad', 'ration', 'niro', 'lumet', 'jonathan', 'enlighten', 'biographi', 'wheel', 'weakest', 'eager', 'unreal', 'ballet', 'hesit', 'feminist', 'ensur', 'commend', 'farmer', 'honesti', 'rider', 'slick', 'wendi', 'hopper', 'region', 'dealer', 'gap', 'choru', '00', 'andr', 'mario', 'patriot', 'worm', 'nephew', 'lena', 'steam', 'immort', 'partial', 'psychopath', 'util', 'properti', 'confin', 'charlott', 'composit', 'similarli', 'victori', 'repress', 'kingdom', 'safeti', 'vice', 'prequel', 'morri', 'wore', 'nostalg', 'skull', 'snap', 'franco', 'hung', 'mutant', 'sappi', 'owen', 'sandra', 'leo', 'blunt', 'macarthur', 'valuabl', 'compens', 'cg', 'latin', 'whoopi', 'dust', 'rambl', 'strand', 'drum', 'campbel', 'snl', 'heartbreak', 'miseri', 'deed', 'tail', 'repli', 'acquir', 'thru', 'tad', 'del', 'speci', 'bonu', 'nervou', 'dalton', 'rocki', 'rope', 'bow', '1972', 'montana', 'recycl', 'hyde', 'bumbl', 'compass', 'pattern', 'bergman', 'emperor', 'drain', 'exit', 'farrel', 'despair', 'kyle', 'orson', 'martian', 'percept', 'wacki', 'pour', 'rapist', 'romp', 'gal', 'rotten', 'airport', 'da', 'mistress', 'roth', 'oppress', 'downhil', 'gimmick', 'bleed', '35', 'tonight', 'contempl', 'chess', 'radic', 'carradin', 'olli', 'slug', 'pursuit', 'taught', '1983', 'shelley', 'edgar', 'dazzl', 'pervert', 'heal', 'belt', 'mislead', 'champion', 'unpredict', 'melodi', 'tooth', 'slash', 'arguabl', 'programm', 'stilt', 'preach', 'arc', 'pervers', 'banal', 'tackl', 'paltrow', 'attorney', 'sensat', 'cleverli', 'mesmer', 'vocal', 'raymond', 'poem', 'conneri', 'rubi', 'dixon', 'tiresom', 'gambl', 'chicken', 'franki', 'closest', 'orang', 'uplift', 'marti', 'duval', 'passeng', 'employe', 'graham', 'plight', 'maid', 'virginia', 'vengeanc', 'bela', 'convincingli', 'extens', 'monologu', 'outing', 'scottish', 'inject', 'bay', 'paranoia', 'profan', 'clone', 'abraham', 'amitabh', 'gerard', 'habit', 'yawn', '1968', 'suffic', 'tube', 'lundgren', 'secretli', 'giggl', 'calm', 'numb', 'mute', 'quarter', 'volum', 'whine', 'swallow', 'climact', 'crystal', 'sirk', 'iran', 'engross', 'pokemon', 'abort', 'profess', 'plod', 'expand', 'taxi', 'surpass', 'septemb', 'lowest', 'grotesqu', 'earl', 'fed', 'frankenstein', 'meander', 'franci', 'dispos', 'backward', 'chicago', 'trend', 'junior', 'linger', 'austen', 'underst', 'poetri', 'ethan', 'richardson', 'im', 'nichola', 'spock', 'bend', 'muddl', 'eugen', 'spoke', 'tourist', 'catchi', 'hum', 'dysfunct', 'instrument', 'simplic', 'descent', 'sue', 'rubber', 'compliment', 'greedi', 'myth', 'waitress', 'der', 'nostalgia', 'stallon', 'cannon', 'household', 'lure', 'econom', 'literatur', 'rant', 'mundan', 'equival', 'dictat', 'dement', 'coast', 'mankind', 'furi', 'alongsid', 'phantom', 'molli', 'lang', 'occupi', 'phoni', 'map', 'eaten', 'flee', 'cent', 'irrelev', 'deaf', 'damon', 'randi', 'duck', 'recognis', 'june', 'recognit', 'stale', 'hello', 'firstli', 'bacal', 'mortal', 'insur', 'crucial', 'louis', 'carel', 'omen', 'sissi', 'bike', 'dreari', 'buffalo', 'newli', 'blackmail', 'distinguish', 'grayson', 'twilight', 'freez', 'loyalti', 'likewis', 'rooney', 'rude', 'onlin', 'cyborg', 'heel', 'labor', 'wisdom', 'bump', 'biko', 'ashley', '1973', 'antwon', 'reign', 'lengthi', 'drake', 'damm', 'daisi', 'chronicl', 'exposur', 'interior', 'emphas', 'provoc', 'proce', 'attribut', 'pink', 'nineti', 'baddi', 'barrymor', 'butler', 'prey', 'incorpor', 'startl', 'vein', 'keith', 'ridden', 'boxer', 'sailor', 'inher', 'tunnel', 'approv', 'basketbal', 'unorigin', 'analysi', 'worn', 'substitut', 'underli', 'nicol', 'predat', 'carla', 'belushi', 'undeni', 'indiffer', 'walsh', 'hypnot', 'drift', 'meg', 'elm', 'condemn', 'othello', 'unrel', 'bunni', 'mighti', 'julian', 'stalker', 'barrel', 'improvis', 'er', 'fleet', 'millionair', 'degrad', 'robbin', 'mormon', 'simmon', 'meyer', '3d', 'exquisit', 'edgi', 'nyc', 'novak', 'priceless', 'roof', 'reid', 'alison', 'lampoon', 'palac', 'dolph', 'watson', 'enthusiasm', 'agenda', 'hay', 'rukh', 'alarm', 'marion', 'firm', 'mtv', 'errol', 'unawar', 'vital', 'shove', 'greed', 'disord', 'warmth', 'showdown', 'testament', 'gestur', 'nun', 'ponder', 'petti', 'unleash', 'drip', 'peril', 'orlean', 'thompson', 'randomli', 'pamela', 'simultan', 'session', 'profit', 'glanc', 'distort', 'campaign', 'championship', 'beatl', 'cassidi', 'minimum', 'what', 'eastern', 'preserv', 'iraq', 'angela', 'crown', 'coup', '1933', 'sergeant', 'spain', '13th', 'peck', 'israel', 'valentin', 'zizek', 'shootout', '1984', 'quinn', 'empathi', 'cream', 'perpetu', 'han', 'represent', 'crawl', 'exposit', 'travesti', 'stroke', 'jan', 'brenda', 'miyazaki', 'calib', 'valley', 'mon', 'contradict', 'scotland', 'wig', 'cooki', 'regist', 'bro', 'crow', 'kurosawa', 'buster', 'climat', 'rout', 'restrain', 'reson', 'unimagin', 'realm', 'stake', 'fido', 'din', 'sabrina', 'gentleman', 'unseen', 'femm', 'mclaglen', 'censor', 'painter', 'sammi', 'absent', 'perceiv', 'dana', '1987', 'delic', 'meryl', 'wax', 'monoton', 'warrant', 'shaki', 'unsatisfi', 'ross', 'pole', 'tacki', 'shoddi', 'pretens', 'sucker', 'spacey', 'josh', 'compromis', 'abomin', 'cloud', 'stargat', '1997', 'demis', 'greg', 'baldwin', 'traumat', 'derang', 'businessman', 'distress', 'geek', 'crawford', 'soderbergh', 'ustinov', 'passabl', 'fuller', 'darren', 'correctli', 'norm', 'valid', 'sid', 'tarantino', 'wholli', 'jewel', 'deniro', 'fog', 'primit', 'unravel', 'exclus', 'polici', 'fenc', 'dee', 'click', 'nathan', 'kumar', 'deceas', 'accuraci', 'austin', 'reluct', 'judgment', 'verbal', 'tech', 'clash', 'antonioni', 'seal', 'anchor', 'furiou', '1993', 'uncov', 'expedit', 'mode', 'enforc', 'ritual', 'joel', 'clerk', 'murray', 'sand', 'slam', 'darn', 'sunni', '2008', 'unfair', 'bake', 'wang', 'seldom', 'debt', 'conduct', 'sheet', 'fabric', 'logan', 'hallucin', 'shanghai', 'crippl', 'trait', '3000', 'fart', 'dreck', 'behold', 'roller', '1971', '1995', 'patienc', 'sustain', 'wretch', 'fought', 'pocket', 'nicola', 'malon', 'alec', 'tax', 'temper', 'vanc', 'guitar', 'runner', 'clau', 'legaci', 'preposter', 'tactic', 'critiqu', 'penni', 'squad', 'stark', 'phil', 'fundament', 'shell', 'bridget', 'canyon', 'scriptwrit', 'despis', 'stuart', 'sweep', 'soup', 'pete', 'isabel', 'schedul', 'conscious', 'rita', 'divid', 'robber', 'outlin', 'helpless', 'bias', 'grief', 'exhaust', 'technicolor', 'preston', 'bloom', 'implic', 'inabl', 'jacket', 'drove', 'consciou', 'unexpectedli', 'flair', 'russia', 'alley', 'culmin', 'liberti', 'agenc', 'delv', 'vomit', 'downey', 'sniper', 'jodi', 'rehash', 'kansa', 'restrict', 'invad', 'rear', 'cigarett', 'propos', 'newman', 'connor', 'sugar', 'sentinel', 'palanc', 'gregori', 'lacklust', 'passag', 'marc', 'boyl', 'alicia', 'horn', 'tendenc', 'delet', 'rampag', 'foxx', 'rod', 'vet', 'wrench', 'aesthet', 'chainsaw', 'behaviour', 'bacon', 'feat', 'improb', 'arrow', '22', 'cap', 'lush', 'sharon', 'tripe', '1936', 'ladder', 'awhil', 'rehears', 'pale', 'asylum', 'yeti', 'mccoy', 'kolchak', 'karl', 'shortcom', 'elit', 'el', 'minu', 'hackney', '19th', 'weav', 'stream', '1920', 'globe', '1978', 'rhythm', 'loneli', 'scoop', 'newcom', 'paradis', 'wildli', 'underneath', '1988', 'sung', 'amazon', 'conscienc', 'rumor', 'fright', 'tasteless', 'lurk', 'hulk', 'hungri', 'prank', 'basing', 'suspicion', 'thunderbird', 'aristocrat', 'paramount', 'filler', 'coaster', 'financ', 'spice', 'tomorrow', 'suffici', 'visitor', 'wagner', 'choppi', 'secondari', 'entranc', 'literari', '75', 'heist', 'impos', 'standout', 'grudg', 'straightforward', 'smell', 'springer', 'curli', '1939', 'hopkin', 'couch', 'posey', 'inmat', 'cancer', 'atroc', 'ram', 'counterpart', 'en', 'teas', 'beverli', 'dirt', 'recogniz', 'worship', 'ingeni', 'penn', 'bread', 'immers', 'naughti', 'abrupt', 'quietli', 'lectur', 'leigh', 'rub', '1989', 'tierney', 'chavez', 'wwe', 'iv', 'minist', 'paxton', 'chamberlain', 'brit', 'bernard', 'injuri', 'ratso', 'moreov', 'laurenc', 'lindsay', 'transcend', 'heartfelt', 'entitl', 'policeman', 'ace', 'watcher', 'yearn', 'misguid', 'enthral', 'clan', 'cattl', 'duel', 'sassi', 'skeptic', 'nolan', 'net', 'attenborough', 'morbid', 'variat', '1986', 'quaid', 'esther', 'nemesi', 'convert', 'geni', 'missil', 'sublim', 'cruelti', 'egg', 'obstacl', 'spiral', '1979', 'mytholog', 'out', 'youngest', 'reliabl', 'brood', 'poe', 'puppi', 'moder', 'graini', 'unexplain', 'diari', 'grin', 'hopelessli', 'bye', 'dont', 'rosemari', 'tyler', 'setup', 'bean', 'uncut', 'buzz', 'kidman', 'kitti', 'carlito', 'facil', 'artsi', 'vader', 'enabl', 'characteris', 'steadi', 'hk', 'exterior', 'despic', 'niec', 'preming', 'disastr', 'gina', 'gillian', 'spontan', 'christin', 'bronson', 'bounc', 'heap', 'decept', 'oblig', 'fuel', 'athlet', '1969', 'underworld', 'weather', 'patricia', 'hain', 'sweat', 'effici', 'narrow', 'acquaint', 'hammi', 'clueless', 'martha', 'baffl', 'kline', 'bewar', 'brendan', 'outlaw', 'injur', 'rome', 'loi', 'tick', 'housewif', 'dandi', 'goof', 'lester', 'enlist', 'taboo', 'suprem', 'loath', 'dilemma', 'fontain', 'headach', 'sleepwalk', 'trigger', 'scar', 'insipid', 'astound', 'candl', 'shatter', 'circu', 'preachi', 'viewpoint', 'biker', 'angst', 'mermaid', 'harmless', 'analyz', '19', 'virtu', 'hepburn', 'sooner', 'mayhem', 'uh', 'renaiss', '73', 'cassavet', 'hostag', 'intric', 'idol', 'slimi', 'fluff', 'ariel', 'redund', 'glorifi', 'ebert', 'whore', 'overlong', 'zoom', 'dismal', 'salt', 'hokey', 'dish', 'filth', 'steer', 'hooker', 'contempt', 'gere', 'amor', 'foolish', 'bent', 'guin', 'claustrophob', 'immatur', 'stair', 'boston', 'camcord', 'oldest', 'phenomenon', 'spade', 'scorses', 'surgeri', 'macho', 'sox', 'tripl', 'stimul', 'corbett', 'flashi', 'beard', 'preced', 'conquer', 'spinal', 'shred', 'assert', 'nolt', 'alvin', 'fascist', 'cush', 'keen', 'spree', '1976', 'frantic', 'messi', 'shield', 'flag', 'strongest', 'corman', 'remad', 'trivia', 'joker', '1981', 'margin', 'faint', 'down', 'astronaut', 'mutual', 'schlock', 'obligatori', 'proport', 'radiat', 'mount', 'zane', 'transplant', 'gasp', 'rhyme', 'muscl', 'dwarf', 'antagonist', 'gabl', 'cow', 'flirt', 'widescreen', 'perman', 'harold', 'cohen', 'naschi', 'scandal', 'inflict', 'interestingli', 'vaniti', '28', 'brush', 'fishburn', 'flock', 'triangl', 'mobil', 'neurot', 'info', 'strive', 'sensual', 'boob', 'hara', 'wield', 'departur', 'divin', 'claud', '1945', 'www', 'instruct', 'bitten', 'resum', '95', 'discern', 'raj', 'barn', 'carey', 'someday', 'bachelor', 'danish', 'ritchi', 'persuad', 'off', 'repris', 'archiv', 'deer', 'aborigin', 'mol', 'proclaim', 'helm', 'senior', 'heartwarm', 'cycl', 'anton', 'ish', 'carlo', 'casino', 'hapless', 'biblic', 'traffic', 'rot', 'parson', 'submit', 'neill', 'artwork', 'luka', 'hug', 'mobster', 'melissa', 'dylan', 'timberlak', 'miracul', 'earnest', 'jade', 'banter', 'cliffhang', 'dim', 'recit', 'undermin', 'hilar', 'fragil', 'cb', 'pixar', 'clad', 'frontier', 'colin', 'pacif', 'axe', 'bate', 'dame', 'kathryn', 'vibrant', 'prophet', 'harrison', 'wendigo', 'loretta', 'cher', 'europa', 'pickford', 'isra', 'http', 'static', 'flavor', 'illus', 'wardrob', 'akin', 'feast', 'token', 'bondag', 'mason', 'sicken', 'lui', 'northern', 'antholog', 'shepherd', 'aris', 'vile', 'uma', 'orphan', 'lucil', 'razor', 'foil', 'eli', 'jo', 'nope', 'blatantli', 'breakfast', 'jordan', 'estrang', 'legitim', 'venom', 'cerebr', 'seedi', 'electron', 'redneck', 'choke', 'bikini', 'rooki', 'marlon', 'vanessa', 'pc', 'milo', 'holocaust', 'alexandr', 'toronto', 'articl', 'misfortun', 'mathieu', 'trier', 'winchest', 'leather', 'smack', 'huston', 'turd', 'comprehend', 'swept', 'retriev', 'cartoonish', 'feminin', 'linear', 'dudley', 'psych', 'ceremoni', 'ideolog', 'oppon', 'outdat', 'nightclub', 'glare', 'abund', 'clinic', 'magician', 'gilbert', 'peer', 'tack', 'deem', 'highway', 'howl', 'styliz', 'frog', 'disregard', 'fifth', 'charlton', 'affleck', 'knightley', 'shorter', 'wrestler', 'gunga', 'audrey', 'boyer', 'compris', 'deliver', 'lighter', 'summar', 'goldsworthi', 'monument', 'uniformli', 'phenomen', 'lifeless', 'collector', 'moe', 'sleaz', 'btw', 'snatch', 'toe', 'braveheart', 'senat', 'corn', 'potter', 'durat', '4th', 'boo', 'chip', 'spine', 'energet', 'einstein', 'conrad', 'spawn', 'bogu', 'client', 'newer', 'cuban', 'lavish', 'bastard', 'evolut', 'mitch', 'greet', '1991', 'whack', 'plate', 'tara', 'breakdown', 'cemeteri', '1994', 'salman', 'spectacl', 'outright', 'kent', 'sorrow', 'capot', 'ol', 'armstrong', 'randolph', 'liu', 'replay', 'fluid', 'mcqueen', 'trauma', 'bulk', 'firmli', 'ie', 'appl', 'occup', 'cecil', 'wtf', 'undead', 'jare', 'healthi', 'gilliam', 'lex', 'inaccuraci', 'luxuri', 'historian', '1977', 'judd', 'evelyn', 'jam', 'clara', 'bori', 'signal', 'embark', 'constitut', 'creek', 'jedi', 'undertak', 'belli', 'alleg', 'pronounc', 'jule', '1974', 'eleven', 'neatli', 'kazan', 'nina', 'subtli', 'forgiven', 'congratul', 'roar', 'bait', 'comprehens', 'porter', 'curtain', 'knee', 'pioneer', 'miami', 'genet', 'relentless', 'abound', 'groan', 'truman', 'mum', 'blur', 'goldblum', 'aussi', 'vain', 'cape', 'spray', 'unattract', 'pepper', 'antonio', 'miniseri', 'bsg', 'id', 'lanc', 'unsuspect', '1985', 'rosario', 'walt', 'galaxi', 'carmen', 'conan', 'sacrif', 'vignett', 'inclus', 'tokyo', 'fruit', 'decapit', 'sidewalk', 'comb', 'poker', 'meal', 'ash', 'lauren', 'basket', 'kiddi', 'inaccur', 'palm', 'paula', 'propheci', 'dubiou', 'modest', 'bravo', 'motorcycl', 'orchestr', 'ingrid', 'incorrect', 'sparkl', 'rapidli', 'weaker', 'sophi', 'victorian', 'scariest', 'assort', 'masterson', 'handicap', 'hackman', 'ghetto', 'hostil', 'verg', 'asset', 'weari', 'macabr', 'frontal', 'substanti', 'omin', 'vastli', 'spill', 'epitom', 'casper', 'bach', 'drone', 'profil', 'growth', 'scarfac', 'cypher'])\n"
     ]
    }
   ],
   "source": [
    "print(word_dict.keys())"
   ]
  },
  {
   "cell_type": "markdown",
   "metadata": {},
   "source": [
    "**Question:** What are the five most frequently appearing (tokenized) words in the training set? Does it makes sense that these words appear frequently in the training set?"
   ]
  },
  {
   "cell_type": "markdown",
   "metadata": {},
   "source": [
    "**Answer:** The five most frequent words in the training dataset are ['movi', 'film', 'one', 'like', 'time']. Yes, it does, because the dataset we used is based on movie reviews in which people comment about like or dislike movies and films."
   ]
  },
  {
   "cell_type": "code",
   "execution_count": 14,
   "metadata": {},
   "outputs": [
    {
     "name": "stdout",
     "output_type": "stream",
     "text": [
      "['movi', 'film', 'one', 'like', 'time']\n"
     ]
    }
   ],
   "source": [
    "# TODO: Use this space to determine the five most frequently appearing words in the training set.\n",
    "print(list(word_dict.keys())[:5])"
   ]
  },
  {
   "cell_type": "markdown",
   "metadata": {},
   "source": [
    "### Save `word_dict`\n",
    "\n",
    "Later on when we construct an endpoint which processes a submitted review we will need to make use of the `word_dict` which we have created. As such, we will save it to a file now for future use."
   ]
  },
  {
   "cell_type": "code",
   "execution_count": 15,
   "metadata": {},
   "outputs": [],
   "source": [
    "data_dir = '../data/pytorch' # The folder we will use for storing data\n",
    "if not os.path.exists(data_dir): # Make sure that the folder exists\n",
    "    os.makedirs(data_dir)"
   ]
  },
  {
   "cell_type": "code",
   "execution_count": 16,
   "metadata": {},
   "outputs": [],
   "source": [
    "with open(os.path.join(data_dir, 'word_dict.pkl'), \"wb\") as f:\n",
    "    pickle.dump(word_dict, f)"
   ]
  },
  {
   "cell_type": "markdown",
   "metadata": {},
   "source": [
    "### Transform the reviews\n",
    "\n",
    "Now that we have our word dictionary which allows us to transform the words appearing in the reviews into integers, it is time to make use of it and convert our reviews to their integer sequence representation, making sure to pad or truncate to a fixed length, which in our case is `500`."
   ]
  },
  {
   "cell_type": "code",
   "execution_count": 17,
   "metadata": {},
   "outputs": [],
   "source": [
    "def convert_and_pad(word_dict, sentence, pad=500):\n",
    "    NOWORD = 0 # We will use 0 to represent the 'no word' category\n",
    "    INFREQ = 1 # and we use 1 to represent the infrequent words, i.e., words not appearing in word_dict\n",
    "    \n",
    "    working_sentence = [NOWORD] * pad\n",
    "    \n",
    "    for word_index, word in enumerate(sentence[:pad]):\n",
    "        if word in word_dict:\n",
    "            working_sentence[word_index] = word_dict[word]\n",
    "        else:\n",
    "            working_sentence[word_index] = INFREQ\n",
    "            \n",
    "    return working_sentence, min(len(sentence), pad)\n",
    "\n",
    "def convert_and_pad_data(word_dict, data, pad=500):\n",
    "    result = []\n",
    "    lengths = []\n",
    "    \n",
    "    for sentence in data:\n",
    "        converted, leng = convert_and_pad(word_dict, sentence, pad)\n",
    "        result.append(converted)\n",
    "        lengths.append(leng)\n",
    "        \n",
    "    return np.array(result), np.array(lengths)"
   ]
  },
  {
   "cell_type": "code",
   "execution_count": 18,
   "metadata": {},
   "outputs": [],
   "source": [
    "train_X, train_X_len = convert_and_pad_data(word_dict, train_X)\n",
    "test_X, test_X_len = convert_and_pad_data(word_dict, test_X)"
   ]
  },
  {
   "cell_type": "markdown",
   "metadata": {},
   "source": [
    "As a quick check to make sure that things are working as intended, check to see what one of the reviews in the training set looks like after having been processeed. Does this look reasonable? What is the length of a review in the training set?"
   ]
  },
  {
   "cell_type": "code",
   "execution_count": 19,
   "metadata": {},
   "outputs": [
    {
     "data": {
      "text/plain": [
       "(array([  16,  846,    2,   36,  176,  557,   19,  805,  501,   88,  805,\n",
       "         525, 2594,  199,   92,  340,  501, 1625, 1345,   33, 1910,   45,\n",
       "         606,  103,  220,  235,  103,    8,   23, 2452,   32, 2505,  884,\n",
       "         607,    3,   20,  805,  877,    1,  702,   16,  835,  805,  292,\n",
       "        4783, 1140,  439,  238, 2075,    1,  384,  805, 2354,  384,   27,\n",
       "         109,  589, 3300,  945,  805,  131,  827,    1,  805,   32,  281,\n",
       "         251,  470,  897,  375,   93,    9,  343,    5,  138,  846,    2,\n",
       "         375,  661,  203,  210,  229,  160, 1144, 3137, 2830, 2937,  961,\n",
       "           0,    0,    0,    0,    0,    0,    0,    0,    0,    0,    0,\n",
       "           0,    0,    0,    0,    0,    0,    0,    0,    0,    0,    0,\n",
       "           0,    0,    0,    0,    0,    0,    0,    0,    0,    0,    0,\n",
       "           0,    0,    0,    0,    0,    0,    0,    0,    0,    0,    0,\n",
       "           0,    0,    0,    0,    0,    0,    0,    0,    0,    0,    0,\n",
       "           0,    0,    0,    0,    0,    0,    0,    0,    0,    0,    0,\n",
       "           0,    0,    0,    0,    0,    0,    0,    0,    0,    0,    0,\n",
       "           0,    0,    0,    0,    0,    0,    0,    0,    0,    0,    0,\n",
       "           0,    0,    0,    0,    0,    0,    0,    0,    0,    0,    0,\n",
       "           0,    0,    0,    0,    0,    0,    0,    0,    0,    0,    0,\n",
       "           0,    0,    0,    0,    0,    0,    0,    0,    0,    0,    0,\n",
       "           0,    0,    0,    0,    0,    0,    0,    0,    0,    0,    0,\n",
       "           0,    0,    0,    0,    0,    0,    0,    0,    0,    0,    0,\n",
       "           0,    0,    0,    0,    0,    0,    0,    0,    0,    0,    0,\n",
       "           0,    0,    0,    0,    0,    0,    0,    0,    0,    0,    0,\n",
       "           0,    0,    0,    0,    0,    0,    0,    0,    0,    0,    0,\n",
       "           0,    0,    0,    0,    0,    0,    0,    0,    0,    0,    0,\n",
       "           0,    0,    0,    0,    0,    0,    0,    0,    0,    0,    0,\n",
       "           0,    0,    0,    0,    0,    0,    0,    0,    0,    0,    0,\n",
       "           0,    0,    0,    0,    0,    0,    0,    0,    0,    0,    0,\n",
       "           0,    0,    0,    0,    0,    0,    0,    0,    0,    0,    0,\n",
       "           0,    0,    0,    0,    0,    0,    0,    0,    0,    0,    0,\n",
       "           0,    0,    0,    0,    0,    0,    0,    0,    0,    0,    0,\n",
       "           0,    0,    0,    0,    0,    0,    0,    0,    0,    0,    0,\n",
       "           0,    0,    0,    0,    0,    0,    0,    0,    0,    0,    0,\n",
       "           0,    0,    0,    0,    0,    0,    0,    0,    0,    0,    0,\n",
       "           0,    0,    0,    0,    0,    0,    0,    0,    0,    0,    0,\n",
       "           0,    0,    0,    0,    0,    0,    0,    0,    0,    0,    0,\n",
       "           0,    0,    0,    0,    0,    0,    0,    0,    0,    0,    0,\n",
       "           0,    0,    0,    0,    0,    0,    0,    0,    0,    0,    0,\n",
       "           0,    0,    0,    0,    0,    0,    0,    0,    0,    0,    0,\n",
       "           0,    0,    0,    0,    0,    0,    0,    0,    0,    0,    0,\n",
       "           0,    0,    0,    0,    0,    0,    0,    0,    0,    0,    0,\n",
       "           0,    0,    0,    0,    0,    0,    0,    0,    0,    0,    0,\n",
       "           0,    0,    0,    0,    0,    0,    0,    0,    0,    0,    0,\n",
       "           0,    0,    0,    0,    0,    0,    0,    0,    0,    0,    0,\n",
       "           0,    0,    0,    0,    0,    0,    0,    0,    0,    0,    0,\n",
       "           0,    0,    0,    0,    0]), 500)"
      ]
     },
     "execution_count": 19,
     "metadata": {},
     "output_type": "execute_result"
    }
   ],
   "source": [
    "# Use this cell to examine one of the processed reviews to make sure everything is working as intended.\n",
    "train_X[100], len(train_X[100])"
   ]
  },
  {
   "cell_type": "markdown",
   "metadata": {},
   "source": [
    "**Question:** In the cells above we use the `preprocess_data` and `convert_and_pad_data` methods to process both the training and testing set. Why or why not might this be a problem?"
   ]
  },
  {
   "cell_type": "markdown",
   "metadata": {},
   "source": [
    "**Answer:** This process can be good, because both train and test datasets have size 500 and it will be suitable to fit our future model. However, we might be wasting memory, considering we are holding many zero values."
   ]
  },
  {
   "cell_type": "markdown",
   "metadata": {},
   "source": [
    "## Step 3: Upload the data to S3\n",
    "\n",
    "As in the XGBoost notebook, we will need to upload the training dataset to S3 in order for our training code to access it. For now we will save it locally and we will upload to S3 later on.\n",
    "\n",
    "### Save the processed training dataset locally\n",
    "\n",
    "It is important to note the format of the data that we are saving as we will need to know it when we write the training code. In our case, each row of the dataset has the form `label`, `length`, `review[500]` where `review[500]` is a sequence of `500` integers representing the words in the review."
   ]
  },
  {
   "cell_type": "code",
   "execution_count": 20,
   "metadata": {},
   "outputs": [],
   "source": [
    "import pandas as pd\n",
    "    \n",
    "pd.concat([pd.DataFrame(train_y), pd.DataFrame(train_X_len), pd.DataFrame(train_X)], axis=1) \\\n",
    "        .to_csv(os.path.join(data_dir, 'train.csv'), header=False, index=False)"
   ]
  },
  {
   "cell_type": "markdown",
   "metadata": {},
   "source": [
    "### Uploading the training data\n",
    "\n",
    "\n",
    "Next, we need to upload the training data to the SageMaker default S3 bucket so that we can provide access to it while training our model."
   ]
  },
  {
   "cell_type": "code",
   "execution_count": 21,
   "metadata": {},
   "outputs": [],
   "source": [
    "import sagemaker\n",
    "\n",
    "sagemaker_session = sagemaker.Session()\n",
    "\n",
    "bucket = sagemaker_session.default_bucket()\n",
    "prefix = 'sagemaker/sentiment_rnn'\n",
    "\n",
    "role = sagemaker.get_execution_role()"
   ]
  },
  {
   "cell_type": "code",
   "execution_count": 22,
   "metadata": {},
   "outputs": [],
   "source": [
    "input_data = sagemaker_session.upload_data(path=data_dir, bucket=bucket, key_prefix=prefix)"
   ]
  },
  {
   "cell_type": "markdown",
   "metadata": {},
   "source": [
    "**NOTE:** The cell above uploads the entire contents of our data directory. This includes the `word_dict.pkl` file. This is fortunate as we will need this later on when we create an endpoint that accepts an arbitrary review. For now, we will just take note of the fact that it resides in the data directory (and so also in the S3 training bucket) and that we will need to make sure it gets saved in the model directory."
   ]
  },
  {
   "cell_type": "markdown",
   "metadata": {},
   "source": [
    "## Step 4: Build and Train the PyTorch Model\n",
    "\n",
    "In the XGBoost notebook we discussed what a model is in the SageMaker framework. In particular, a model comprises three objects\n",
    "\n",
    " - Model Artifacts,\n",
    " - Training Code, and\n",
    " - Inference Code,\n",
    " \n",
    "each of which interact with one another. In the XGBoost example we used training and inference code that was provided by Amazon. Here we will still be using containers provided by Amazon with the added benefit of being able to include our own custom code.\n",
    "\n",
    "We will start by implementing our own neural network in PyTorch along with a training script. For the purposes of this project we have provided the necessary model object in the `model.py` file, inside of the `train` folder. You can see the provided implementation by running the cell below."
   ]
  },
  {
   "cell_type": "code",
   "execution_count": 23,
   "metadata": {},
   "outputs": [
    {
     "name": "stdout",
     "output_type": "stream",
     "text": [
      "\u001b[34mimport\u001b[39;49;00m \u001b[04m\u001b[36mtorch.nn\u001b[39;49;00m \u001b[34mas\u001b[39;49;00m \u001b[04m\u001b[36mnn\u001b[39;49;00m\r\n",
      "\r\n",
      "\u001b[34mclass\u001b[39;49;00m \u001b[04m\u001b[32mLSTMClassifier\u001b[39;49;00m(nn.Module):\r\n",
      "    \u001b[33m\"\"\"\u001b[39;49;00m\r\n",
      "\u001b[33m    This is the simple RNN model we will be using to perform Sentiment Analysis.\u001b[39;49;00m\r\n",
      "\u001b[33m    \"\"\"\u001b[39;49;00m\r\n",
      "\r\n",
      "    \u001b[34mdef\u001b[39;49;00m \u001b[32m__init__\u001b[39;49;00m(\u001b[36mself\u001b[39;49;00m, embedding_dim, hidden_dim, vocab_size):\r\n",
      "        \u001b[33m\"\"\"\u001b[39;49;00m\r\n",
      "\u001b[33m        Initialize the model by settingg up the various layers.\u001b[39;49;00m\r\n",
      "\u001b[33m        \"\"\"\u001b[39;49;00m\r\n",
      "        \u001b[36msuper\u001b[39;49;00m(LSTMClassifier, \u001b[36mself\u001b[39;49;00m).\u001b[32m__init__\u001b[39;49;00m()\r\n",
      "\r\n",
      "        \u001b[36mself\u001b[39;49;00m.embedding = nn.Embedding(vocab_size, embedding_dim, padding_idx=\u001b[34m0\u001b[39;49;00m)\r\n",
      "        \u001b[36mself\u001b[39;49;00m.lstm = nn.LSTM(embedding_dim, hidden_dim)\r\n",
      "        \u001b[36mself\u001b[39;49;00m.dense = nn.Linear(in_features=hidden_dim, out_features=\u001b[34m1\u001b[39;49;00m)\r\n",
      "        \u001b[36mself\u001b[39;49;00m.sig = nn.Sigmoid()\r\n",
      "        \r\n",
      "        \u001b[36mself\u001b[39;49;00m.word_dict = \u001b[36mNone\u001b[39;49;00m\r\n",
      "\r\n",
      "    \u001b[34mdef\u001b[39;49;00m \u001b[32mforward\u001b[39;49;00m(\u001b[36mself\u001b[39;49;00m, x):\r\n",
      "        \u001b[33m\"\"\"\u001b[39;49;00m\r\n",
      "\u001b[33m        Perform a forward pass of our model on some input.\u001b[39;49;00m\r\n",
      "\u001b[33m        \"\"\"\u001b[39;49;00m\r\n",
      "        x = x.t()\r\n",
      "        lengths = x[\u001b[34m0\u001b[39;49;00m,:]\r\n",
      "        reviews = x[\u001b[34m1\u001b[39;49;00m:,:]\r\n",
      "        embeds = \u001b[36mself\u001b[39;49;00m.embedding(reviews)\r\n",
      "        lstm_out, _ = \u001b[36mself\u001b[39;49;00m.lstm(embeds)\r\n",
      "        out = \u001b[36mself\u001b[39;49;00m.dense(lstm_out)\r\n",
      "        out = out[lengths - \u001b[34m1\u001b[39;49;00m, \u001b[36mrange\u001b[39;49;00m(\u001b[36mlen\u001b[39;49;00m(lengths))]\r\n",
      "        \u001b[34mreturn\u001b[39;49;00m \u001b[36mself\u001b[39;49;00m.sig(out.squeeze())\r\n"
     ]
    }
   ],
   "source": [
    "!pygmentize train/model.py"
   ]
  },
  {
   "cell_type": "markdown",
   "metadata": {},
   "source": [
    "The important takeaway from the implementation provided is that there are three parameters that we may wish to tweak to improve the performance of our model. These are the embedding dimension, the hidden dimension and the size of the vocabulary. We will likely want to make these parameters configurable in the training script so that if we wish to modify them we do not need to modify the script itself. We will see how to do this later on. To start we will write some of the training code in the notebook so that we can more easily diagnose any issues that arise.\n",
    "\n",
    "First we will load a small portion of the training data set to use as a sample. It would be very time consuming to try and train the model completely in the notebook as we do not have access to a gpu and the compute instance that we are using is not particularly powerful. However, we can work on a small bit of the data to get a feel for how our training script is behaving."
   ]
  },
  {
   "cell_type": "code",
   "execution_count": 24,
   "metadata": {},
   "outputs": [],
   "source": [
    "import torch\n",
    "import torch.utils.data\n",
    "\n",
    "# Read in only the first 250 rows\n",
    "train_sample = pd.read_csv(os.path.join(data_dir, 'train.csv'), header=None, names=None, nrows=250)\n",
    "\n",
    "# Turn the input pandas dataframe into tensors\n",
    "train_sample_y = torch.from_numpy(train_sample[[0]].values).float().squeeze()\n",
    "train_sample_X = torch.from_numpy(train_sample.drop([0], axis=1).values).long()\n",
    "\n",
    "# Build the dataset\n",
    "train_sample_ds = torch.utils.data.TensorDataset(train_sample_X, train_sample_y)\n",
    "# Build the dataloader\n",
    "train_sample_dl = torch.utils.data.DataLoader(train_sample_ds, batch_size=50)"
   ]
  },
  {
   "cell_type": "markdown",
   "metadata": {},
   "source": [
    "### (TODO) Writing the training method\n",
    "\n",
    "Next we need to write the training code itself. This should be very similar to training methods that you have written before to train PyTorch models. We will leave any difficult aspects such as model saving / loading and parameter loading until a little later."
   ]
  },
  {
   "cell_type": "code",
   "execution_count": 25,
   "metadata": {},
   "outputs": [],
   "source": [
    "def train(model, train_loader, epochs, optimizer, loss_fn, device):\n",
    "    for epoch in range(1, epochs + 1):\n",
    "        model.train()\n",
    "        total_loss = 0\n",
    "        for batch in train_loader:         \n",
    "            batch_X, batch_y = batch\n",
    "            \n",
    "            batch_X = batch_X.to(device)\n",
    "            batch_y = batch_y.to(device)\n",
    "            \n",
    "            # TODO: Complete this train method to train the model provided.\n",
    "            \n",
    "            # restarting grad\n",
    "            optimizer.zero_grad()\n",
    "            \n",
    "            # predicting \n",
    "            predict = model.forward(batch_X)\n",
    "            \n",
    "            # calculating the loss\n",
    "            loss = loss_fn(predict, batch_y)\n",
    "            \n",
    "            # backprogation\n",
    "            loss.backward()\n",
    "            \n",
    "            # step gradient with optimizer\n",
    "            optimizer.step()\n",
    "            \n",
    "            total_loss += loss.data.item()\n",
    "        print(\"Epoch: {}, BCELoss: {}\".format(epoch, total_loss / len(train_loader)))"
   ]
  },
  {
   "cell_type": "markdown",
   "metadata": {},
   "source": [
    "Supposing we have the training method above, we will test that it is working by writing a bit of code in the notebook that executes our training method on the small sample training set that we loaded earlier. The reason for doing this in the notebook is so that we have an opportunity to fix any errors that arise early when they are easier to diagnose."
   ]
  },
  {
   "cell_type": "code",
   "execution_count": 26,
   "metadata": {},
   "outputs": [
    {
     "name": "stdout",
     "output_type": "stream",
     "text": [
      "Epoch: 1, BCELoss: 0.6940800070762634\n",
      "Epoch: 2, BCELoss: 0.6868218064308167\n",
      "Epoch: 3, BCELoss: 0.6804668307304382\n",
      "Epoch: 4, BCELoss: 0.6730821847915649\n",
      "Epoch: 5, BCELoss: 0.6633998632431031\n"
     ]
    }
   ],
   "source": [
    "import torch.optim as optim\n",
    "from train.model import LSTMClassifier\n",
    "\n",
    "device = torch.device(\"cuda\" if torch.cuda.is_available() else \"cpu\")\n",
    "model = LSTMClassifier(32, 100, 5000).to(device)\n",
    "optimizer = optim.Adam(model.parameters())\n",
    "loss_fn = torch.nn.BCELoss()\n",
    "\n",
    "train(model, train_sample_dl, 5, optimizer, loss_fn, device)"
   ]
  },
  {
   "cell_type": "markdown",
   "metadata": {},
   "source": [
    "In order to construct a PyTorch model using SageMaker we must provide SageMaker with a training script. We may optionally include a directory which will be copied to the container and from which our training code will be run. When the training container is executed it will check the uploaded directory (if there is one) for a `requirements.txt` file and install any required Python libraries, after which the training script will be run."
   ]
  },
  {
   "cell_type": "markdown",
   "metadata": {},
   "source": [
    "### (TODO) Training the model\n",
    "\n",
    "When a PyTorch model is constructed in SageMaker, an entry point must be specified. This is the Python file which will be executed when the model is trained. Inside of the `train` directory is a file called `train.py` which has been provided and which contains most of the necessary code to train our model. The only thing that is missing is the implementation of the `train()` method which you wrote earlier in this notebook.\n",
    "\n",
    "**TODO**: Copy the `train()` method written above and paste it into the `train/train.py` file where required.\n",
    "\n",
    "The way that SageMaker passes hyperparameters to the training script is by way of arguments. These arguments can then be parsed and used in the training script. To see how this is done take a look at the provided `train/train.py` file."
   ]
  },
  {
   "cell_type": "code",
   "execution_count": 27,
   "metadata": {},
   "outputs": [],
   "source": [
    "from sagemaker.pytorch import PyTorch\n",
    "\n",
    "estimator = PyTorch(entry_point=\"train.py\",\n",
    "                    source_dir=\"train\",\n",
    "                    role=role,\n",
    "                    framework_version='0.4.0',\n",
    "                    train_instance_count=1,\n",
    "                    train_instance_type='ml.p2.xlarge',\n",
    "                    hyperparameters={\n",
    "                        'epochs': 10,\n",
    "                        'hidden_dim': 200,\n",
    "                    })"
   ]
  },
  {
   "cell_type": "code",
   "execution_count": 28,
   "metadata": {},
   "outputs": [
    {
     "name": "stdout",
     "output_type": "stream",
     "text": [
      "2020-03-27 04:42:51 Starting - Starting the training job...\n",
      "2020-03-27 04:42:53 Starting - Launching requested ML instances......\n",
      "2020-03-27 04:44:19 Starting - Preparing the instances for training.........\n",
      "2020-03-27 04:45:35 Downloading - Downloading input data...\n",
      "2020-03-27 04:46:12 Training - Downloading the training image...\n",
      "2020-03-27 04:46:39 Training - Training image download completed. Training in progress.\u001b[34mbash: cannot set terminal process group (-1): Inappropriate ioctl for device\u001b[0m\n",
      "\u001b[34mbash: no job control in this shell\u001b[0m\n",
      "\u001b[34m2020-03-27 04:46:40,126 sagemaker-containers INFO     Imported framework sagemaker_pytorch_container.training\u001b[0m\n",
      "\u001b[34m2020-03-27 04:46:40,151 sagemaker_pytorch_container.training INFO     Block until all host DNS lookups succeed.\u001b[0m\n",
      "\u001b[34m2020-03-27 04:46:43,172 sagemaker_pytorch_container.training INFO     Invoking user training script.\u001b[0m\n",
      "\u001b[34m2020-03-27 04:46:43,382 sagemaker-containers INFO     Module train does not provide a setup.py. \u001b[0m\n",
      "\u001b[34mGenerating setup.py\u001b[0m\n",
      "\u001b[34m2020-03-27 04:46:43,382 sagemaker-containers INFO     Generating setup.cfg\u001b[0m\n",
      "\u001b[34m2020-03-27 04:46:43,382 sagemaker-containers INFO     Generating MANIFEST.in\u001b[0m\n",
      "\u001b[34m2020-03-27 04:46:43,382 sagemaker-containers INFO     Installing module with the following command:\u001b[0m\n",
      "\u001b[34m/usr/bin/python -m pip install -U . -r requirements.txt\u001b[0m\n",
      "\u001b[34mProcessing /opt/ml/code\u001b[0m\n",
      "\u001b[34mCollecting pandas (from -r requirements.txt (line 1))\n",
      "  Downloading https://files.pythonhosted.org/packages/74/24/0cdbf8907e1e3bc5a8da03345c23cbed7044330bb8f73bb12e711a640a00/pandas-0.24.2-cp35-cp35m-manylinux1_x86_64.whl (10.0MB)\u001b[0m\n",
      "\u001b[34mCollecting numpy (from -r requirements.txt (line 2))\n",
      "  Downloading https://files.pythonhosted.org/packages/ff/18/c0b937e2f84095ae230196899e56d1d7d76c8e8424fb235ed7e5bb6d68af/numpy-1.18.2-cp35-cp35m-manylinux1_x86_64.whl (20.0MB)\u001b[0m\n",
      "\u001b[34mCollecting nltk (from -r requirements.txt (line 3))\n",
      "  Downloading https://files.pythonhosted.org/packages/f6/1d/d925cfb4f324ede997f6d47bea4d9babba51b49e87a767c170b77005889d/nltk-3.4.5.zip (1.5MB)\u001b[0m\n",
      "\u001b[34mCollecting beautifulsoup4 (from -r requirements.txt (line 4))\n",
      "  Downloading https://files.pythonhosted.org/packages/cb/a1/c698cf319e9cfed6b17376281bd0efc6bfc8465698f54170ef60a485ab5d/beautifulsoup4-4.8.2-py3-none-any.whl (106kB)\u001b[0m\n",
      "\u001b[34mCollecting html5lib (from -r requirements.txt (line 5))\n",
      "  Downloading https://files.pythonhosted.org/packages/a5/62/bbd2be0e7943ec8504b517e62bab011b4946e1258842bc159e5dfde15b96/html5lib-1.0.1-py2.py3-none-any.whl (117kB)\u001b[0m\n",
      "\u001b[34mCollecting pytz>=2011k (from pandas->-r requirements.txt (line 1))\n",
      "  Downloading https://files.pythonhosted.org/packages/e7/f9/f0b53f88060247251bf481fa6ea62cd0d25bf1b11a87888e53ce5b7c8ad2/pytz-2019.3-py2.py3-none-any.whl (509kB)\u001b[0m\n",
      "\u001b[34mRequirement already satisfied, skipping upgrade: python-dateutil>=2.5.0 in /usr/local/lib/python3.5/dist-packages (from pandas->-r requirements.txt (line 1)) (2.7.5)\u001b[0m\n",
      "\u001b[34mRequirement already satisfied, skipping upgrade: six in /usr/local/lib/python3.5/dist-packages (from nltk->-r requirements.txt (line 3)) (1.11.0)\u001b[0m\n",
      "\u001b[34mCollecting soupsieve>=1.2 (from beautifulsoup4->-r requirements.txt (line 4))\n",
      "  Downloading https://files.pythonhosted.org/packages/05/cf/ea245e52f55823f19992447b008bcbb7f78efc5960d77f6c34b5b45b36dd/soupsieve-2.0-py2.py3-none-any.whl\u001b[0m\n",
      "\u001b[34mCollecting webencodings (from html5lib->-r requirements.txt (line 5))\n",
      "  Downloading https://files.pythonhosted.org/packages/f4/24/2a3e3df732393fed8b3ebf2ec078f05546de641fe1b667ee316ec1dcf3b7/webencodings-0.5.1-py2.py3-none-any.whl\u001b[0m\n",
      "\u001b[34mBuilding wheels for collected packages: nltk, train\n",
      "  Running setup.py bdist_wheel for nltk: started\u001b[0m\n",
      "\u001b[34m  Running setup.py bdist_wheel for nltk: finished with status 'done'\n",
      "  Stored in directory: /root/.cache/pip/wheels/96/86/f6/68ab24c23f207c0077381a5e3904b2815136b879538a24b483\n",
      "  Running setup.py bdist_wheel for train: started\u001b[0m\n",
      "\u001b[34m  Running setup.py bdist_wheel for train: finished with status 'done'\n",
      "  Stored in directory: /tmp/pip-ephem-wheel-cache-fhvftfnc/wheels/35/24/16/37574d11bf9bde50616c67372a334f94fa8356bc7164af8ca3\u001b[0m\n",
      "\u001b[34mSuccessfully built nltk train\u001b[0m\n",
      "\u001b[34mInstalling collected packages: pytz, numpy, pandas, nltk, soupsieve, beautifulsoup4, webencodings, html5lib, train\n",
      "  Found existing installation: numpy 1.15.4\n",
      "    Uninstalling numpy-1.15.4:\u001b[0m\n",
      "\u001b[34m      Successfully uninstalled numpy-1.15.4\u001b[0m\n",
      "\u001b[34mSuccessfully installed beautifulsoup4-4.8.2 html5lib-1.0.1 nltk-3.4.5 numpy-1.18.2 pandas-0.24.2 pytz-2019.3 soupsieve-2.0 train-1.0.0 webencodings-0.5.1\u001b[0m\n",
      "\u001b[34mYou are using pip version 18.1, however version 20.0.2 is available.\u001b[0m\n",
      "\u001b[34mYou should consider upgrading via the 'pip install --upgrade pip' command.\u001b[0m\n",
      "\u001b[34m2020-03-27 04:46:55,679 sagemaker-containers INFO     Invoking user script\n",
      "\u001b[0m\n",
      "\u001b[34mTraining Env:\n",
      "\u001b[0m\n",
      "\u001b[34m{\n",
      "    \"hyperparameters\": {\n",
      "        \"epochs\": 10,\n",
      "        \"hidden_dim\": 200\n",
      "    },\n",
      "    \"output_dir\": \"/opt/ml/output\",\n",
      "    \"channel_input_dirs\": {\n",
      "        \"training\": \"/opt/ml/input/data/training\"\n",
      "    },\n",
      "    \"current_host\": \"algo-1\",\n",
      "    \"job_name\": \"sagemaker-pytorch-2020-03-27-04-42-51-330\",\n",
      "    \"log_level\": 20,\n",
      "    \"hosts\": [\n",
      "        \"algo-1\"\n",
      "    ],\n",
      "    \"user_entry_point\": \"train.py\",\n",
      "    \"additional_framework_parameters\": {},\n",
      "    \"num_gpus\": 1,\n",
      "    \"output_intermediate_dir\": \"/opt/ml/output/intermediate\",\n",
      "    \"output_data_dir\": \"/opt/ml/output/data\",\n",
      "    \"input_config_dir\": \"/opt/ml/input/config\",\n",
      "    \"input_dir\": \"/opt/ml/input\",\n",
      "    \"model_dir\": \"/opt/ml/model\",\n",
      "    \"module_name\": \"train\",\n",
      "    \"num_cpus\": 4,\n",
      "    \"network_interface_name\": \"eth0\",\n",
      "    \"input_data_config\": {\n",
      "        \"training\": {\n",
      "            \"RecordWrapperType\": \"None\",\n",
      "            \"TrainingInputMode\": \"File\",\n",
      "            \"S3DistributionType\": \"FullyReplicated\"\n",
      "        }\n",
      "    },\n",
      "    \"framework_module\": \"sagemaker_pytorch_container.training:main\",\n",
      "    \"module_dir\": \"s3://sagemaker-us-east-2-817620984634/sagemaker-pytorch-2020-03-27-04-42-51-330/source/sourcedir.tar.gz\",\n",
      "    \"resource_config\": {\n",
      "        \"hosts\": [\n",
      "            \"algo-1\"\n",
      "        ],\n",
      "        \"current_host\": \"algo-1\",\n",
      "        \"network_interface_name\": \"eth0\"\n",
      "    }\u001b[0m\n",
      "\u001b[34m}\n",
      "\u001b[0m\n",
      "\u001b[34mEnvironment variables:\n",
      "\u001b[0m\n",
      "\u001b[34mSM_OUTPUT_DATA_DIR=/opt/ml/output/data\u001b[0m\n",
      "\u001b[34mSM_HPS={\"epochs\":10,\"hidden_dim\":200}\u001b[0m\n",
      "\u001b[34mSM_INPUT_CONFIG_DIR=/opt/ml/input/config\u001b[0m\n",
      "\u001b[34mSM_CHANNEL_TRAINING=/opt/ml/input/data/training\u001b[0m\n",
      "\u001b[34mSM_CURRENT_HOST=algo-1\u001b[0m\n",
      "\u001b[34mSM_RESOURCE_CONFIG={\"current_host\":\"algo-1\",\"hosts\":[\"algo-1\"],\"network_interface_name\":\"eth0\"}\u001b[0m\n",
      "\u001b[34mSM_HP_EPOCHS=10\u001b[0m\n",
      "\u001b[34mSM_INPUT_DIR=/opt/ml/input\u001b[0m\n",
      "\u001b[34mSM_HP_HIDDEN_DIM=200\u001b[0m\n",
      "\u001b[34mSM_INPUT_DATA_CONFIG={\"training\":{\"RecordWrapperType\":\"None\",\"S3DistributionType\":\"FullyReplicated\",\"TrainingInputMode\":\"File\"}}\u001b[0m\n",
      "\u001b[34mSM_USER_ARGS=[\"--epochs\",\"10\",\"--hidden_dim\",\"200\"]\u001b[0m\n",
      "\u001b[34mSM_MODEL_DIR=/opt/ml/model\u001b[0m\n",
      "\u001b[34mSM_OUTPUT_INTERMEDIATE_DIR=/opt/ml/output/intermediate\u001b[0m\n",
      "\u001b[34mSM_FRAMEWORK_PARAMS={}\u001b[0m\n",
      "\u001b[34mSM_NUM_CPUS=4\u001b[0m\n",
      "\u001b[34mPYTHONPATH=/usr/local/bin:/usr/lib/python35.zip:/usr/lib/python3.5:/usr/lib/python3.5/plat-x86_64-linux-gnu:/usr/lib/python3.5/lib-dynload:/usr/local/lib/python3.5/dist-packages:/usr/lib/python3/dist-packages\u001b[0m\n",
      "\u001b[34mSM_TRAINING_ENV={\"additional_framework_parameters\":{},\"channel_input_dirs\":{\"training\":\"/opt/ml/input/data/training\"},\"current_host\":\"algo-1\",\"framework_module\":\"sagemaker_pytorch_container.training:main\",\"hosts\":[\"algo-1\"],\"hyperparameters\":{\"epochs\":10,\"hidden_dim\":200},\"input_config_dir\":\"/opt/ml/input/config\",\"input_data_config\":{\"training\":{\"RecordWrapperType\":\"None\",\"S3DistributionType\":\"FullyReplicated\",\"TrainingInputMode\":\"File\"}},\"input_dir\":\"/opt/ml/input\",\"job_name\":\"sagemaker-pytorch-2020-03-27-04-42-51-330\",\"log_level\":20,\"model_dir\":\"/opt/ml/model\",\"module_dir\":\"s3://sagemaker-us-east-2-817620984634/sagemaker-pytorch-2020-03-27-04-42-51-330/source/sourcedir.tar.gz\",\"module_name\":\"train\",\"network_interface_name\":\"eth0\",\"num_cpus\":4,\"num_gpus\":1,\"output_data_dir\":\"/opt/ml/output/data\",\"output_dir\":\"/opt/ml/output\",\"output_intermediate_dir\":\"/opt/ml/output/intermediate\",\"resource_config\":{\"current_host\":\"algo-1\",\"hosts\":[\"algo-1\"],\"network_interface_name\":\"eth0\"},\"user_entry_point\":\"train.py\"}\u001b[0m\n",
      "\u001b[34mSM_NETWORK_INTERFACE_NAME=eth0\u001b[0m\n",
      "\u001b[34mSM_MODULE_DIR=s3://sagemaker-us-east-2-817620984634/sagemaker-pytorch-2020-03-27-04-42-51-330/source/sourcedir.tar.gz\u001b[0m\n",
      "\u001b[34mSM_FRAMEWORK_MODULE=sagemaker_pytorch_container.training:main\u001b[0m\n",
      "\u001b[34mSM_MODULE_NAME=train\u001b[0m\n",
      "\u001b[34mSM_HOSTS=[\"algo-1\"]\u001b[0m\n",
      "\u001b[34mSM_USER_ENTRY_POINT=train.py\u001b[0m\n",
      "\u001b[34mSM_LOG_LEVEL=20\u001b[0m\n",
      "\u001b[34mSM_CHANNELS=[\"training\"]\u001b[0m\n",
      "\u001b[34mSM_OUTPUT_DIR=/opt/ml/output\u001b[0m\n",
      "\u001b[34mSM_NUM_GPUS=1\n",
      "\u001b[0m\n",
      "\u001b[34mInvoking script with the following command:\n",
      "\u001b[0m\n",
      "\u001b[34m/usr/bin/python -m train --epochs 10 --hidden_dim 200\n",
      "\n",
      "\u001b[0m\n",
      "\u001b[34mUsing device cuda.\u001b[0m\n",
      "\u001b[34mGet train data loader.\u001b[0m\n"
     ]
    },
    {
     "name": "stdout",
     "output_type": "stream",
     "text": [
      "\u001b[34mModel loaded with embedding_dim 32, hidden_dim 200, vocab_size 5000.\u001b[0m\n",
      "\u001b[34mEpoch: 1, BCELoss: 0.6731688769496217\u001b[0m\n",
      "\u001b[34mEpoch: 2, BCELoss: 0.6225220086623211\u001b[0m\n",
      "\u001b[34mEpoch: 3, BCELoss: 0.5408105357569091\u001b[0m\n",
      "\u001b[34mEpoch: 4, BCELoss: 0.4751315092553898\u001b[0m\n",
      "\u001b[34mEpoch: 5, BCELoss: 0.40033433327869494\u001b[0m\n",
      "\u001b[34mEpoch: 6, BCELoss: 0.36756828366493693\u001b[0m\n",
      "\u001b[34mEpoch: 7, BCELoss: 0.3426484751458071\u001b[0m\n",
      "\u001b[34mEpoch: 8, BCELoss: 0.32156280108860563\u001b[0m\n",
      "\u001b[34mEpoch: 9, BCELoss: 0.2905540010150598\u001b[0m\n",
      "\u001b[34mEpoch: 10, BCELoss: 0.29434820401425266\u001b[0m\n",
      "\u001b[34m2020-03-27 04:49:56,864 sagemaker-containers INFO     Reporting training SUCCESS\u001b[0m\n",
      "\n",
      "2020-03-27 04:50:04 Uploading - Uploading generated training model\n",
      "2020-03-27 04:50:04 Completed - Training job completed\n",
      "Training seconds: 269\n",
      "Billable seconds: 269\n"
     ]
    }
   ],
   "source": [
    "estimator.fit({'training': input_data})"
   ]
  },
  {
   "cell_type": "markdown",
   "metadata": {},
   "source": [
    "## Step 5: Testing the model\n",
    "\n",
    "As mentioned at the top of this notebook, we will be testing this model by first deploying it and then sending the testing data to the deployed endpoint. We will do this so that we can make sure that the deployed model is working correctly.\n",
    "\n",
    "## Step 6: Deploy the model for testing\n",
    "\n",
    "Now that we have trained our model, we would like to test it to see how it performs. Currently our model takes input of the form `review_length, review[500]` where `review[500]` is a sequence of `500` integers which describe the words present in the review, encoded using `word_dict`. Fortunately for us, SageMaker provides built-in inference code for models with simple inputs such as this.\n",
    "\n",
    "There is one thing that we need to provide, however, and that is a function which loads the saved model. This function must be called `model_fn()` and takes as its only parameter a path to the directory where the model artifacts are stored. This function must also be present in the python file which we specified as the entry point. In our case the model loading function has been provided and so no changes need to be made.\n",
    "\n",
    "**NOTE**: When the built-in inference code is run it must import the `model_fn()` method from the `train.py` file. This is why the training code is wrapped in a main guard ( ie, `if __name__ == '__main__':` )\n",
    "\n",
    "Since we don't need to change anything in the code that was uploaded during training, we can simply deploy the current model as-is.\n",
    "\n",
    "**NOTE:** When deploying a model you are asking SageMaker to launch an compute instance that will wait for data to be sent to it. As a result, this compute instance will continue to run until *you* shut it down. This is important to know since the cost of a deployed endpoint depends on how long it has been running for.\n",
    "\n",
    "In other words **If you are no longer using a deployed endpoint, shut it down!**\n",
    "\n",
    "**TODO:** Deploy the trained model."
   ]
  },
  {
   "cell_type": "code",
   "execution_count": 29,
   "metadata": {},
   "outputs": [
    {
     "name": "stdout",
     "output_type": "stream",
     "text": [
      "-------------!"
     ]
    }
   ],
   "source": [
    "# TODO: Deploy the trained model\n",
    "predictor = estimator.deploy(initial_instance_count = 1, instance_type = 'ml.m4.xlarge')"
   ]
  },
  {
   "cell_type": "markdown",
   "metadata": {},
   "source": [
    "## Step 7 - Use the model for testing\n",
    "\n",
    "Once deployed, we can read in the test data and send it off to our deployed model to get some results. Once we collect all of the results we can determine how accurate our model is."
   ]
  },
  {
   "cell_type": "code",
   "execution_count": 30,
   "metadata": {},
   "outputs": [],
   "source": [
    "test_X = pd.concat([pd.DataFrame(test_X_len), pd.DataFrame(test_X)], axis=1)"
   ]
  },
  {
   "cell_type": "code",
   "execution_count": 31,
   "metadata": {},
   "outputs": [],
   "source": [
    "# We split the data into chunks and send each chunk seperately, accumulating the results.\n",
    "\n",
    "def predict(data, rows=512):\n",
    "    split_array = np.array_split(data, int(data.shape[0] / float(rows) + 1))\n",
    "    predictions = np.array([])\n",
    "    for array in split_array:\n",
    "        predictions = np.append(predictions, predictor.predict(array))\n",
    "    \n",
    "    return predictions"
   ]
  },
  {
   "cell_type": "code",
   "execution_count": 32,
   "metadata": {},
   "outputs": [],
   "source": [
    "predictions = predict(test_X.values)\n",
    "predictions = [round(num) for num in predictions]"
   ]
  },
  {
   "cell_type": "code",
   "execution_count": 33,
   "metadata": {},
   "outputs": [
    {
     "data": {
      "text/plain": [
       "0.8528"
      ]
     },
     "execution_count": 33,
     "metadata": {},
     "output_type": "execute_result"
    }
   ],
   "source": [
    "from sklearn.metrics import accuracy_score\n",
    "accuracy_score(test_y, predictions)"
   ]
  },
  {
   "cell_type": "markdown",
   "metadata": {},
   "source": [
    "**Question:** How does this model compare to the XGBoost model you created earlier? Why might these two models perform differently on this dataset? Which do *you* think is better for sentiment analysis?"
   ]
  },
  {
   "cell_type": "markdown",
   "metadata": {},
   "source": [
    "**Answer:** I think that although XGboost performs similarly to this model, the RNN model is better because it can take into account the context of the input data."
   ]
  },
  {
   "cell_type": "markdown",
   "metadata": {},
   "source": [
    "### (TODO) More testing\n",
    "\n",
    "We now have a trained model which has been deployed and which we can send processed reviews to and which returns the predicted sentiment. However, ultimately we would like to be able to send our model an unprocessed review. That is, we would like to send the review itself as a string. For example, suppose we wish to send the following review to our model."
   ]
  },
  {
   "cell_type": "code",
   "execution_count": 34,
   "metadata": {},
   "outputs": [],
   "source": [
    "test_review = 'The simplest pleasures in life are the best, and this film is one of them. Combining a rather basic storyline of love and adventure this movie transcends the usual weekend fair with wit and unmitigated charm.'"
   ]
  },
  {
   "cell_type": "markdown",
   "metadata": {},
   "source": [
    "The question we now need to answer is, how do we send this review to our model?\n",
    "\n",
    "Recall in the first section of this notebook we did a bunch of data processing to the IMDb dataset. In particular, we did two specific things to the provided reviews.\n",
    " - Removed any html tags and stemmed the input\n",
    " - Encoded the review as a sequence of integers using `word_dict`\n",
    " \n",
    "In order process the review we will need to repeat these two steps.\n",
    "\n",
    "**TODO**: Using the `review_to_words` and `convert_and_pad` methods from section one, convert `test_review` into a numpy array `test_data` suitable to send to our model. Remember that our model expects input of the form `review_length, review[500]`."
   ]
  },
  {
   "cell_type": "code",
   "execution_count": 35,
   "metadata": {},
   "outputs": [],
   "source": [
    "# TODO: Convert test_review into a form usable by the model and save the results in test_data\n",
    "test_data = review_to_words(test_review)\n",
    "\n",
    "test_data = [np.array(convert_and_pad(word_dict, test_data)[0])]"
   ]
  },
  {
   "cell_type": "markdown",
   "metadata": {},
   "source": [
    "Now that we have processed the review, we can send the resulting array to our model to predict the sentiment of the review."
   ]
  },
  {
   "cell_type": "code",
   "execution_count": 36,
   "metadata": {},
   "outputs": [
    {
     "data": {
      "text/plain": [
       "array(0.6111121, dtype=float32)"
      ]
     },
     "execution_count": 36,
     "metadata": {},
     "output_type": "execute_result"
    }
   ],
   "source": [
    "predictor.predict(test_data)"
   ]
  },
  {
   "cell_type": "markdown",
   "metadata": {},
   "source": [
    "Since the return value of our model is close to `1`, we can be certain that the review we submitted is positive."
   ]
  },
  {
   "cell_type": "markdown",
   "metadata": {},
   "source": [
    "### Delete the endpoint\n",
    "\n",
    "Of course, just like in the XGBoost notebook, once we've deployed an endpoint it continues to run until we tell it to shut down. Since we are done using our endpoint for now, we can delete it."
   ]
  },
  {
   "cell_type": "code",
   "execution_count": 37,
   "metadata": {},
   "outputs": [],
   "source": [
    "estimator.delete_endpoint()"
   ]
  },
  {
   "cell_type": "markdown",
   "metadata": {},
   "source": [
    "## Step 6 (again) - Deploy the model for the web app\n",
    "\n",
    "Now that we know that our model is working, it's time to create some custom inference code so that we can send the model a review which has not been processed and have it determine the sentiment of the review.\n",
    "\n",
    "As we saw above, by default the estimator which we created, when deployed, will use the entry script and directory which we provided when creating the model. However, since we now wish to accept a string as input and our model expects a processed review, we need to write some custom inference code.\n",
    "\n",
    "We will store the code that we write in the `serve` directory. Provided in this directory is the `model.py` file that we used to construct our model, a `utils.py` file which contains the `review_to_words` and `convert_and_pad` pre-processing functions which we used during the initial data processing, and `predict.py`, the file which will contain our custom inference code. Note also that `requirements.txt` is present which will tell SageMaker what Python libraries are required by our custom inference code.\n",
    "\n",
    "When deploying a PyTorch model in SageMaker, you are expected to provide four functions which the SageMaker inference container will use.\n",
    " - `model_fn`: This function is the same function that we used in the training script and it tells SageMaker how to load our model.\n",
    " - `input_fn`: This function receives the raw serialized input that has been sent to the model's endpoint and its job is to de-serialize and make the input available for the inference code.\n",
    " - `output_fn`: This function takes the output of the inference code and its job is to serialize this output and return it to the caller of the model's endpoint.\n",
    " - `predict_fn`: The heart of the inference script, this is where the actual prediction is done and is the function which you will need to complete.\n",
    "\n",
    "For the simple website that we are constructing during this project, the `input_fn` and `output_fn` methods are relatively straightforward. We only require being able to accept a string as input and we expect to return a single value as output. You might imagine though that in a more complex application the input or output may be image data or some other binary data which would require some effort to serialize.\n",
    "\n",
    "### (TODO) Writing inference code\n",
    "\n",
    "Before writing our custom inference code, we will begin by taking a look at the code which has been provided."
   ]
  },
  {
   "cell_type": "code",
   "execution_count": 51,
   "metadata": {},
   "outputs": [
    {
     "name": "stdout",
     "output_type": "stream",
     "text": [
      "\u001b[34mimport\u001b[39;49;00m \u001b[04m\u001b[36margparse\u001b[39;49;00m\r\n",
      "\u001b[34mimport\u001b[39;49;00m \u001b[04m\u001b[36mjson\u001b[39;49;00m\r\n",
      "\u001b[34mimport\u001b[39;49;00m \u001b[04m\u001b[36mos\u001b[39;49;00m\r\n",
      "\u001b[34mimport\u001b[39;49;00m \u001b[04m\u001b[36mpickle\u001b[39;49;00m\r\n",
      "\u001b[34mimport\u001b[39;49;00m \u001b[04m\u001b[36msys\u001b[39;49;00m\r\n",
      "\u001b[34mimport\u001b[39;49;00m \u001b[04m\u001b[36msagemaker_containers\u001b[39;49;00m\r\n",
      "\u001b[34mimport\u001b[39;49;00m \u001b[04m\u001b[36mpandas\u001b[39;49;00m \u001b[34mas\u001b[39;49;00m \u001b[04m\u001b[36mpd\u001b[39;49;00m\r\n",
      "\u001b[34mimport\u001b[39;49;00m \u001b[04m\u001b[36mnumpy\u001b[39;49;00m \u001b[34mas\u001b[39;49;00m \u001b[04m\u001b[36mnp\u001b[39;49;00m\r\n",
      "\u001b[34mimport\u001b[39;49;00m \u001b[04m\u001b[36mtorch\u001b[39;49;00m\r\n",
      "\u001b[34mimport\u001b[39;49;00m \u001b[04m\u001b[36mtorch.nn\u001b[39;49;00m \u001b[34mas\u001b[39;49;00m \u001b[04m\u001b[36mnn\u001b[39;49;00m\r\n",
      "\u001b[34mimport\u001b[39;49;00m \u001b[04m\u001b[36mtorch.optim\u001b[39;49;00m \u001b[34mas\u001b[39;49;00m \u001b[04m\u001b[36moptim\u001b[39;49;00m\r\n",
      "\u001b[34mimport\u001b[39;49;00m \u001b[04m\u001b[36mtorch.utils.data\u001b[39;49;00m\r\n",
      "\r\n",
      "\u001b[34mfrom\u001b[39;49;00m \u001b[04m\u001b[36mmodel\u001b[39;49;00m \u001b[34mimport\u001b[39;49;00m LSTMClassifier\r\n",
      "\r\n",
      "\u001b[34mfrom\u001b[39;49;00m \u001b[04m\u001b[36mutils\u001b[39;49;00m \u001b[34mimport\u001b[39;49;00m review_to_words, convert_and_pad\r\n",
      "\r\n",
      "\u001b[34mdef\u001b[39;49;00m \u001b[32mmodel_fn\u001b[39;49;00m(model_dir):\r\n",
      "    \u001b[33m\"\"\"Load the PyTorch model from the `model_dir` directory.\"\"\"\u001b[39;49;00m\r\n",
      "    \u001b[34mprint\u001b[39;49;00m(\u001b[33m\"\u001b[39;49;00m\u001b[33mLoading model.\u001b[39;49;00m\u001b[33m\"\u001b[39;49;00m)\r\n",
      "\r\n",
      "    \u001b[37m# First, load the parameters used to create the model.\u001b[39;49;00m\r\n",
      "    model_info = {}\r\n",
      "    model_info_path = os.path.join(model_dir, \u001b[33m'\u001b[39;49;00m\u001b[33mmodel_info.pth\u001b[39;49;00m\u001b[33m'\u001b[39;49;00m)\r\n",
      "    \u001b[34mwith\u001b[39;49;00m \u001b[36mopen\u001b[39;49;00m(model_info_path, \u001b[33m'\u001b[39;49;00m\u001b[33mrb\u001b[39;49;00m\u001b[33m'\u001b[39;49;00m) \u001b[34mas\u001b[39;49;00m f:\r\n",
      "        model_info = torch.load(f)\r\n",
      "\r\n",
      "    \u001b[34mprint\u001b[39;49;00m(\u001b[33m\"\u001b[39;49;00m\u001b[33mmodel_info: {}\u001b[39;49;00m\u001b[33m\"\u001b[39;49;00m.format(model_info))\r\n",
      "\r\n",
      "    \u001b[37m# Determine the device and construct the model.\u001b[39;49;00m\r\n",
      "    device = torch.device(\u001b[33m\"\u001b[39;49;00m\u001b[33mcuda\u001b[39;49;00m\u001b[33m\"\u001b[39;49;00m \u001b[34mif\u001b[39;49;00m torch.cuda.is_available() \u001b[34melse\u001b[39;49;00m \u001b[33m\"\u001b[39;49;00m\u001b[33mcpu\u001b[39;49;00m\u001b[33m\"\u001b[39;49;00m)\r\n",
      "    model = LSTMClassifier(model_info[\u001b[33m'\u001b[39;49;00m\u001b[33membedding_dim\u001b[39;49;00m\u001b[33m'\u001b[39;49;00m], model_info[\u001b[33m'\u001b[39;49;00m\u001b[33mhidden_dim\u001b[39;49;00m\u001b[33m'\u001b[39;49;00m], model_info[\u001b[33m'\u001b[39;49;00m\u001b[33mvocab_size\u001b[39;49;00m\u001b[33m'\u001b[39;49;00m])\r\n",
      "\r\n",
      "    \u001b[37m# Load the store model parameters.\u001b[39;49;00m\r\n",
      "    model_path = os.path.join(model_dir, \u001b[33m'\u001b[39;49;00m\u001b[33mmodel.pth\u001b[39;49;00m\u001b[33m'\u001b[39;49;00m)\r\n",
      "    \u001b[34mwith\u001b[39;49;00m \u001b[36mopen\u001b[39;49;00m(model_path, \u001b[33m'\u001b[39;49;00m\u001b[33mrb\u001b[39;49;00m\u001b[33m'\u001b[39;49;00m) \u001b[34mas\u001b[39;49;00m f:\r\n",
      "        model.load_state_dict(torch.load(f))\r\n",
      "\r\n",
      "    \u001b[37m# Load the saved word_dict.\u001b[39;49;00m\r\n",
      "    word_dict_path = os.path.join(model_dir, \u001b[33m'\u001b[39;49;00m\u001b[33mword_dict.pkl\u001b[39;49;00m\u001b[33m'\u001b[39;49;00m)\r\n",
      "    \u001b[34mwith\u001b[39;49;00m \u001b[36mopen\u001b[39;49;00m(word_dict_path, \u001b[33m'\u001b[39;49;00m\u001b[33mrb\u001b[39;49;00m\u001b[33m'\u001b[39;49;00m) \u001b[34mas\u001b[39;49;00m f:\r\n",
      "        model.word_dict = pickle.load(f)\r\n",
      "\r\n",
      "    model.to(device).eval()\r\n",
      "\r\n",
      "    \u001b[34mprint\u001b[39;49;00m(\u001b[33m\"\u001b[39;49;00m\u001b[33mDone loading model.\u001b[39;49;00m\u001b[33m\"\u001b[39;49;00m)\r\n",
      "    \u001b[34mreturn\u001b[39;49;00m model\r\n",
      "\r\n",
      "\u001b[34mdef\u001b[39;49;00m \u001b[32minput_fn\u001b[39;49;00m(serialized_input_data, content_type):\r\n",
      "    \u001b[34mprint\u001b[39;49;00m(\u001b[33m'\u001b[39;49;00m\u001b[33mDeserializing the input data.\u001b[39;49;00m\u001b[33m'\u001b[39;49;00m)\r\n",
      "    \u001b[34mif\u001b[39;49;00m content_type == \u001b[33m'\u001b[39;49;00m\u001b[33mtext/plain\u001b[39;49;00m\u001b[33m'\u001b[39;49;00m:\r\n",
      "        data = serialized_input_data.decode(\u001b[33m'\u001b[39;49;00m\u001b[33mutf-8\u001b[39;49;00m\u001b[33m'\u001b[39;49;00m)\r\n",
      "        \u001b[34mreturn\u001b[39;49;00m data\r\n",
      "    \u001b[34mraise\u001b[39;49;00m \u001b[36mException\u001b[39;49;00m(\u001b[33m'\u001b[39;49;00m\u001b[33mRequested unsupported ContentType in content_type: \u001b[39;49;00m\u001b[33m'\u001b[39;49;00m + content_type)\r\n",
      "\r\n",
      "\u001b[34mdef\u001b[39;49;00m \u001b[32moutput_fn\u001b[39;49;00m(prediction_output, accept):\r\n",
      "    \u001b[34mprint\u001b[39;49;00m(\u001b[33m'\u001b[39;49;00m\u001b[33mSerializing the generated output.\u001b[39;49;00m\u001b[33m'\u001b[39;49;00m)\r\n",
      "    \u001b[34mreturn\u001b[39;49;00m \u001b[36mstr\u001b[39;49;00m(prediction_output)\r\n",
      "\r\n",
      "\u001b[34mdef\u001b[39;49;00m \u001b[32mpredict_fn\u001b[39;49;00m(input_data, model):\r\n",
      "    \u001b[34mprint\u001b[39;49;00m(\u001b[33m'\u001b[39;49;00m\u001b[33mInferring sentiment of input data.\u001b[39;49;00m\u001b[33m'\u001b[39;49;00m)\r\n",
      "\r\n",
      "    device = torch.device(\u001b[33m\"\u001b[39;49;00m\u001b[33mcuda\u001b[39;49;00m\u001b[33m\"\u001b[39;49;00m \u001b[34mif\u001b[39;49;00m torch.cuda.is_available() \u001b[34melse\u001b[39;49;00m \u001b[33m\"\u001b[39;49;00m\u001b[33mcpu\u001b[39;49;00m\u001b[33m\"\u001b[39;49;00m)\r\n",
      "    \r\n",
      "    \u001b[34mif\u001b[39;49;00m model.word_dict \u001b[35mis\u001b[39;49;00m \u001b[36mNone\u001b[39;49;00m:\r\n",
      "        \u001b[34mraise\u001b[39;49;00m \u001b[36mException\u001b[39;49;00m(\u001b[33m'\u001b[39;49;00m\u001b[33mModel has not been loaded properly, no word_dict.\u001b[39;49;00m\u001b[33m'\u001b[39;49;00m)\r\n",
      "    \r\n",
      "    \u001b[37m# TODO: Process input_data so that it is ready to be sent to our model.\u001b[39;49;00m\r\n",
      "    \u001b[37m#       You should produce two variables:\u001b[39;49;00m\r\n",
      "    \u001b[37m#         data_X   - A sequence of length 500 which represents the converted review\u001b[39;49;00m\r\n",
      "    \u001b[37m#         data_len - The length of the review\u001b[39;49;00m\r\n",
      "\r\n",
      "    data_X ,data_len = convert_and_pad(model.word_dict, review_to_words(input_data))\r\n",
      "\r\n",
      "    \u001b[37m# Using data_X and data_len we construct an appropriate input tensor. Remember\u001b[39;49;00m\r\n",
      "    \u001b[37m# that our model expects input data of the form 'len, review[500]'.\u001b[39;49;00m\r\n",
      "    data_pack = np.hstack((data_len, data_X))\r\n",
      "    data_pack = data_pack.reshape(\u001b[34m1\u001b[39;49;00m, -\u001b[34m1\u001b[39;49;00m)\r\n",
      "    \r\n",
      "    data = torch.from_numpy(data_pack)\r\n",
      "    data = data.to(device)\r\n",
      "\r\n",
      "    \u001b[37m# Make sure to put the model into evaluation mode\u001b[39;49;00m\r\n",
      "    model.eval()\r\n",
      "\r\n",
      "    \u001b[37m# TODO: Compute the result of applying the model to the input data. The variable `result` should\u001b[39;49;00m\r\n",
      "    \u001b[37m#       be a numpy array which contains a single integer which is either 1 or 0\u001b[39;49;00m\r\n",
      "\r\n",
      "    result = model(data).cpu().detach()\r\n",
      "    \r\n",
      "    result = np.array(\u001b[36mround\u001b[39;49;00m(result.item()))\r\n",
      "\r\n",
      "    \u001b[34mreturn\u001b[39;49;00m result\r\n"
     ]
    }
   ],
   "source": [
    "!pygmentize serve/predict.py"
   ]
  },
  {
   "cell_type": "markdown",
   "metadata": {},
   "source": [
    "As mentioned earlier, the `model_fn` method is the same as the one provided in the training code and the `input_fn` and `output_fn` methods are very simple and your task will be to complete the `predict_fn` method. Make sure that you save the completed file as `predict.py` in the `serve` directory.\n",
    "\n",
    "**TODO**: Complete the `predict_fn()` method in the `serve/predict.py` file."
   ]
  },
  {
   "cell_type": "markdown",
   "metadata": {},
   "source": [
    "### Deploying the model\n",
    "\n",
    "Now that the custom inference code has been written, we will create and deploy our model. To begin with, we need to construct a new PyTorchModel object which points to the model artifacts created during training and also points to the inference code that we wish to use. Then we can call the deploy method to launch the deployment container.\n",
    "\n",
    "**NOTE**: The default behaviour for a deployed PyTorch model is to assume that any input passed to the predictor is a `numpy` array. In our case we want to send a string so we need to construct a simple wrapper around the `RealTimePredictor` class to accomodate simple strings. In a more complicated situation you may want to provide a serialization object, for example if you wanted to sent image data."
   ]
  },
  {
   "cell_type": "code",
   "execution_count": 52,
   "metadata": {},
   "outputs": [
    {
     "name": "stdout",
     "output_type": "stream",
     "text": [
      "-------------!"
     ]
    }
   ],
   "source": [
    "from sagemaker.predictor import RealTimePredictor\n",
    "from sagemaker.pytorch import PyTorchModel\n",
    "\n",
    "class StringPredictor(RealTimePredictor):\n",
    "    def __init__(self, endpoint_name, sagemaker_session):\n",
    "        super(StringPredictor, self).__init__(endpoint_name, sagemaker_session, content_type='text/plain')\n",
    "\n",
    "model = PyTorchModel(model_data=estimator.model_data,\n",
    "                     role = role,\n",
    "                     framework_version='0.4.0',\n",
    "                     entry_point='predict.py',\n",
    "                     source_dir='serve',\n",
    "                     predictor_cls=StringPredictor)\n",
    "predictor = model.deploy(initial_instance_count=1, instance_type='ml.m4.xlarge')"
   ]
  },
  {
   "cell_type": "markdown",
   "metadata": {},
   "source": [
    "### Testing the model\n",
    "\n",
    "Now that we have deployed our model with the custom inference code, we should test to see if everything is working. Here we test our model by loading the first `250` positive and negative reviews and send them to the endpoint, then collect the results. The reason for only sending some of the data is that the amount of time it takes for our model to process the input and then perform inference is quite long and so testing the entire data set would be prohibitive."
   ]
  },
  {
   "cell_type": "code",
   "execution_count": 53,
   "metadata": {},
   "outputs": [],
   "source": [
    "import glob\n",
    "\n",
    "def test_reviews(data_dir='../data/aclImdb', stop=250):\n",
    "    \n",
    "    results = []\n",
    "    ground = []\n",
    "    \n",
    "    # We make sure to test both positive and negative reviews    \n",
    "    for sentiment in ['pos', 'neg']:\n",
    "        \n",
    "        path = os.path.join(data_dir, 'test', sentiment, '*.txt')\n",
    "        files = glob.glob(path)\n",
    "        \n",
    "        files_read = 0\n",
    "        \n",
    "        print('Starting ', sentiment, ' files')\n",
    "        \n",
    "        # Iterate through the files and send them to the predictor\n",
    "        for f in files:\n",
    "            with open(f) as review:\n",
    "                # First, we store the ground truth (was the review positive or negative)\n",
    "                if sentiment == 'pos':\n",
    "                    ground.append(1)\n",
    "                else:\n",
    "                    ground.append(0)\n",
    "                # Read in the review and convert to 'utf-8' for transmission via HTTP\n",
    "                review_input = review.read().encode('utf-8')\n",
    "                # Send the review to the predictor and store the results\n",
    "                results.append(int(predictor.predict(review_input)))\n",
    "                \n",
    "            # Sending reviews to our endpoint one at a time takes a while so we\n",
    "            # only send a small number of reviews\n",
    "            files_read += 1\n",
    "            if files_read == stop:\n",
    "                break\n",
    "            \n",
    "    return ground, results"
   ]
  },
  {
   "cell_type": "code",
   "execution_count": 54,
   "metadata": {},
   "outputs": [
    {
     "name": "stdout",
     "output_type": "stream",
     "text": [
      "Starting  pos  files\n",
      "Starting  neg  files\n"
     ]
    }
   ],
   "source": [
    "ground, results = test_reviews()"
   ]
  },
  {
   "cell_type": "code",
   "execution_count": 55,
   "metadata": {},
   "outputs": [
    {
     "data": {
      "text/plain": [
       "0.85"
      ]
     },
     "execution_count": 55,
     "metadata": {},
     "output_type": "execute_result"
    }
   ],
   "source": [
    "from sklearn.metrics import accuracy_score\n",
    "accuracy_score(ground, results)"
   ]
  },
  {
   "cell_type": "markdown",
   "metadata": {},
   "source": [
    "As an additional test, we can try sending the `test_review` that we looked at earlier."
   ]
  },
  {
   "cell_type": "code",
   "execution_count": 56,
   "metadata": {},
   "outputs": [
    {
     "data": {
      "text/plain": [
       "b'1'"
      ]
     },
     "execution_count": 56,
     "metadata": {},
     "output_type": "execute_result"
    }
   ],
   "source": [
    "predictor.predict(test_review)"
   ]
  },
  {
   "cell_type": "markdown",
   "metadata": {},
   "source": [
    "Now that we know our endpoint is working as expected, we can set up the web page that will interact with it. If you don't have time to finish the project now, make sure to skip down to the end of this notebook and shut down your endpoint. You can deploy it again when you come back."
   ]
  },
  {
   "cell_type": "markdown",
   "metadata": {},
   "source": [
    "## Step 7 (again): Use the model for the web app\n",
    "\n",
    "> **TODO:** This entire section and the next contain tasks for you to complete, mostly using the AWS console.\n",
    "\n",
    "So far we have been accessing our model endpoint by constructing a predictor object which uses the endpoint and then just using the predictor object to perform inference. What if we wanted to create a web app which accessed our model? The way things are set up currently makes that not possible since in order to access a SageMaker endpoint the app would first have to authenticate with AWS using an IAM role which included access to SageMaker endpoints. However, there is an easier way! We just need to use some additional AWS services.\n",
    "\n",
    "<img src=\"Web App Diagram.svg\">\n",
    "\n",
    "The diagram above gives an overview of how the various services will work together. On the far right is the model which we trained above and which is deployed using SageMaker. On the far left is our web app that collects a user's movie review, sends it off and expects a positive or negative sentiment in return.\n",
    "\n",
    "In the middle is where some of the magic happens. We will construct a Lambda function, which you can think of as a straightforward Python function that can be executed whenever a specified event occurs. We will give this function permission to send and recieve data from a SageMaker endpoint.\n",
    "\n",
    "Lastly, the method we will use to execute the Lambda function is a new endpoint that we will create using API Gateway. This endpoint will be a url that listens for data to be sent to it. Once it gets some data it will pass that data on to the Lambda function and then return whatever the Lambda function returns. Essentially it will act as an interface that lets our web app communicate with the Lambda function.\n",
    "\n",
    "### Setting up a Lambda function\n",
    "\n",
    "The first thing we are going to do is set up a Lambda function. This Lambda function will be executed whenever our public API has data sent to it. When it is executed it will receive the data, perform any sort of processing that is required, send the data (the review) to the SageMaker endpoint we've created and then return the result.\n",
    "\n",
    "#### Part A: Create an IAM Role for the Lambda function\n",
    "\n",
    "Since we want the Lambda function to call a SageMaker endpoint, we need to make sure that it has permission to do so. To do this, we will construct a role that we can later give the Lambda function.\n",
    "\n",
    "Using the AWS Console, navigate to the **IAM** page and click on **Roles**. Then, click on **Create role**. Make sure that the **AWS service** is the type of trusted entity selected and choose **Lambda** as the service that will use this role, then click **Next: Permissions**.\n",
    "\n",
    "In the search box type `sagemaker` and select the check box next to the **AmazonSageMakerFullAccess** policy. Then, click on **Next: Review**.\n",
    "\n",
    "Lastly, give this role a name. Make sure you use a name that you will remember later on, for example `LambdaSageMakerRole`. Then, click on **Create role**.\n",
    "\n",
    "#### Part B: Create a Lambda function\n",
    "\n",
    "Now it is time to actually create the Lambda function.\n",
    "\n",
    "Using the AWS Console, navigate to the AWS Lambda page and click on **Create a function**. When you get to the next page, make sure that **Author from scratch** is selected. Now, name your Lambda function, using a name that you will remember later on, for example `sentiment_analysis_func`. Make sure that the **Python 3.6** runtime is selected and then choose the role that you created in the previous part. Then, click on **Create Function**.\n",
    "\n",
    "On the next page you will see some information about the Lambda function you've just created. If you scroll down you should see an editor in which you can write the code that will be executed when your Lambda function is triggered. In our example, we will use the code below. \n",
    "\n",
    "```python\n",
    "# We need to use the low-level library to interact with SageMaker since the SageMaker API\n",
    "# is not available natively through Lambda.\n",
    "import boto3\n",
    "\n",
    "def lambda_handler(event, context):\n",
    "\n",
    "    # The SageMaker runtime is what allows us to invoke the endpoint that we've created.\n",
    "    runtime = boto3.Session().client('sagemaker-runtime')\n",
    "\n",
    "    # Now we use the SageMaker runtime to invoke our endpoint, sending the review we were given\n",
    "    response = runtime.invoke_endpoint(EndpointName = '**ENDPOINT NAME HERE**',    # The name of the endpoint we created\n",
    "                                       ContentType = 'text/plain',                 # The data format that is expected\n",
    "                                       Body = event['body'])                       # The actual review\n",
    "\n",
    "    # The response is an HTTP response whose body contains the result of our inference\n",
    "    result = response['Body'].read().decode('utf-8')\n",
    "\n",
    "    return {\n",
    "        'statusCode' : 200,\n",
    "        'headers' : { 'Content-Type' : 'text/plain', 'Access-Control-Allow-Origin' : '*' },\n",
    "        'body' : result\n",
    "    }\n",
    "```\n",
    "\n",
    "Once you have copy and pasted the code above into the Lambda code editor, replace the `**ENDPOINT NAME HERE**` portion with the name of the endpoint that we deployed earlier. You can determine the name of the endpoint using the code cell below."
   ]
  },
  {
   "cell_type": "code",
   "execution_count": 57,
   "metadata": {},
   "outputs": [
    {
     "data": {
      "text/plain": [
       "'sagemaker-pytorch-2020-03-27-05-35-40-949'"
      ]
     },
     "execution_count": 57,
     "metadata": {},
     "output_type": "execute_result"
    }
   ],
   "source": [
    "predictor.endpoint"
   ]
  },
  {
   "cell_type": "markdown",
   "metadata": {},
   "source": [
    "Once you have added the endpoint name to the Lambda function, click on **Save**. Your Lambda function is now up and running. Next we need to create a way for our web app to execute the Lambda function.\n",
    "\n",
    "### Setting up API Gateway\n",
    "\n",
    "Now that our Lambda function is set up, it is time to create a new API using API Gateway that will trigger the Lambda function we have just created.\n",
    "\n",
    "Using AWS Console, navigate to **Amazon API Gateway** and then click on **Get started**.\n",
    "\n",
    "On the next page, make sure that **New API** is selected and give the new api a name, for example, `sentiment_analysis_api`. Then, click on **Create API**.\n",
    "\n",
    "Now we have created an API, however it doesn't currently do anything. What we want it to do is to trigger the Lambda function that we created earlier.\n",
    "\n",
    "Select the **Actions** dropdown menu and click **Create Method**. A new blank method will be created, select its dropdown menu and select **POST**, then click on the check mark beside it.\n",
    "\n",
    "For the integration point, make sure that **Lambda Function** is selected and click on the **Use Lambda Proxy integration**. This option makes sure that the data that is sent to the API is then sent directly to the Lambda function with no processing. It also means that the return value must be a proper response object as it will also not be processed by API Gateway.\n",
    "\n",
    "Type the name of the Lambda function you created earlier into the **Lambda Function** text entry box and then click on **Save**. Click on **OK** in the pop-up box that then appears, giving permission to API Gateway to invoke the Lambda function you created.\n",
    "\n",
    "The last step in creating the API Gateway is to select the **Actions** dropdown and click on **Deploy API**. You will need to create a new Deployment stage and name it anything you like, for example `prod`.\n",
    "\n",
    "You have now successfully set up a public API to access your SageMaker model. Make sure to copy or write down the URL provided to invoke your newly created public API as this will be needed in the next step. This URL can be found at the top of the page, highlighted in blue next to the text **Invoke URL**."
   ]
  },
  {
   "cell_type": "markdown",
   "metadata": {},
   "source": [
    "## Step 4: Deploying our web app\n",
    "\n",
    "Now that we have a publicly available API, we can start using it in a web app. For our purposes, we have provided a simple static html file which can make use of the public api you created earlier.\n",
    "\n",
    "In the `website` folder there should be a file called `index.html`. Download the file to your computer and open that file up in a text editor of your choice. There should be a line which contains **\\*\\*REPLACE WITH PUBLIC API URL\\*\\***. Replace this string with the url that you wrote down in the last step and then save the file.\n",
    "\n",
    "Now, if you open `index.html` on your local computer, your browser will behave as a local web server and you can use the provided site to interact with your SageMaker model.\n",
    "\n",
    "If you'd like to go further, you can host this html file anywhere you'd like, for example using github or hosting a static site on Amazon's S3. Once you have done this you can share the link with anyone you'd like and have them play with it too!\n",
    "\n",
    "> **Important Note** In order for the web app to communicate with the SageMaker endpoint, the endpoint has to actually be deployed and running. This means that you are paying for it. Make sure that the endpoint is running when you want to use the web app but that you shut it down when you don't need it, otherwise you will end up with a surprisingly large AWS bill.\n",
    "\n",
    "**TODO:** Make sure that you include the edited `index.html` file in your project submission."
   ]
  },
  {
   "cell_type": "markdown",
   "metadata": {},
   "source": [
    "Now that your web app is working, trying playing around with it and see how well it works.\n",
    "\n",
    "**Question**: Give an example of a review that you entered into your web app. What was the predicted sentiment of your example review?"
   ]
  },
  {
   "cell_type": "markdown",
   "metadata": {},
   "source": [
    "**Answer:** I loved that movie. It was incredible.\n",
    "\n",
    "Your review was POSITIVE!"
   ]
  },
  {
   "cell_type": "markdown",
   "metadata": {},
   "source": [
    "### Delete the endpoint\n",
    "\n",
    "Remember to always shut down your endpoint if you are no longer using it. You are charged for the length of time that the endpoint is running so if you forget and leave it on you could end up with an unexpectedly large bill."
   ]
  },
  {
   "cell_type": "code",
   "execution_count": 58,
   "metadata": {},
   "outputs": [],
   "source": [
    "predictor.delete_endpoint()"
   ]
  },
  {
   "cell_type": "code",
   "execution_count": null,
   "metadata": {},
   "outputs": [],
   "source": []
  }
 ],
 "metadata": {
  "kernelspec": {
   "display_name": "conda_pytorch_p36",
   "language": "python",
   "name": "conda_pytorch_p36"
  },
  "language_info": {
   "codemirror_mode": {
    "name": "ipython",
    "version": 3
   },
   "file_extension": ".py",
   "mimetype": "text/x-python",
   "name": "python",
   "nbconvert_exporter": "python",
   "pygments_lexer": "ipython3",
   "version": "3.6.5"
  }
 },
 "nbformat": 4,
 "nbformat_minor": 2
}
